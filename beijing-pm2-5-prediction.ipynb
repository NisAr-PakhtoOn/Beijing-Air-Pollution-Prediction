{
 "cells": [
  {
   "cell_type": "code",
   "execution_count": 4,
   "metadata": {
    "_cell_guid": "79c7e3d0-c299-4dcb-8224-4455121ee9b0",
    "_uuid": "d629ff2d2480ee46fbb7e2d37f6b5fab8052498a",
    "execution": {
     "iopub.execute_input": "2020-10-12T08:57:18.741949Z",
     "iopub.status.busy": "2020-10-12T08:57:18.741218Z",
     "iopub.status.idle": "2020-10-12T08:57:24.132548Z",
     "shell.execute_reply": "2020-10-12T08:57:24.133300Z"
    },
    "papermill": {
     "duration": 5.423083,
     "end_time": "2020-10-12T08:57:24.133550",
     "exception": false,
     "start_time": "2020-10-12T08:57:18.710467",
     "status": "completed"
    },
    "tags": []
   },
   "outputs": [],
   "source": [
    "#from tensorflow import keras\n",
    "#from tensorflow.keras import layers\n",
    "import matplotlib.pyplot as plt\n",
    "import pandas as pd\n",
    "import numpy as np\n",
    "\n",
    "%matplotlib inline"
   ]
  },
  {
   "cell_type": "markdown",
   "metadata": {
    "papermill": {
     "duration": 0.037823,
     "end_time": "2020-10-12T08:57:24.223666",
     "exception": false,
     "start_time": "2020-10-12T08:57:24.185843",
     "status": "completed"
    },
    "tags": []
   },
   "source": [
    "## Preprocessing"
   ]
  },
  {
   "cell_type": "code",
   "execution_count": 5,
   "metadata": {
    "execution": {
     "iopub.execute_input": "2020-10-12T08:57:24.292854Z",
     "iopub.status.busy": "2020-10-12T08:57:24.292117Z",
     "iopub.status.idle": "2020-10-12T08:57:24.494269Z",
     "shell.execute_reply": "2020-10-12T08:57:24.493531Z"
    },
    "papermill": {
     "duration": 0.240841,
     "end_time": "2020-10-12T08:57:24.494470",
     "exception": false,
     "start_time": "2020-10-12T08:57:24.253629",
     "status": "completed"
    },
    "tags": []
   },
   "outputs": [
    {
     "data": {
      "text/html": [
       "<div>\n",
       "<style scoped>\n",
       "    .dataframe tbody tr th:only-of-type {\n",
       "        vertical-align: middle;\n",
       "    }\n",
       "\n",
       "    .dataframe tbody tr th {\n",
       "        vertical-align: top;\n",
       "    }\n",
       "\n",
       "    .dataframe thead th {\n",
       "        text-align: right;\n",
       "    }\n",
       "</style>\n",
       "<table border=\"1\" class=\"dataframe\">\n",
       "  <thead>\n",
       "    <tr style=\"text-align: right;\">\n",
       "      <th></th>\n",
       "      <th>No</th>\n",
       "      <th>year</th>\n",
       "      <th>month</th>\n",
       "      <th>day</th>\n",
       "      <th>hour</th>\n",
       "      <th>pm2.5</th>\n",
       "      <th>DEWP</th>\n",
       "      <th>TEMP</th>\n",
       "      <th>PRES</th>\n",
       "      <th>cbwd</th>\n",
       "      <th>Iws</th>\n",
       "      <th>Is</th>\n",
       "      <th>Ir</th>\n",
       "    </tr>\n",
       "  </thead>\n",
       "  <tbody>\n",
       "    <tr>\n",
       "      <th>0</th>\n",
       "      <td>1</td>\n",
       "      <td>2010</td>\n",
       "      <td>1</td>\n",
       "      <td>1</td>\n",
       "      <td>0</td>\n",
       "      <td>NaN</td>\n",
       "      <td>-21</td>\n",
       "      <td>-11.0</td>\n",
       "      <td>1021.0</td>\n",
       "      <td>NW</td>\n",
       "      <td>1.79</td>\n",
       "      <td>0</td>\n",
       "      <td>0</td>\n",
       "    </tr>\n",
       "    <tr>\n",
       "      <th>1</th>\n",
       "      <td>2</td>\n",
       "      <td>2010</td>\n",
       "      <td>1</td>\n",
       "      <td>1</td>\n",
       "      <td>1</td>\n",
       "      <td>NaN</td>\n",
       "      <td>-21</td>\n",
       "      <td>-12.0</td>\n",
       "      <td>1020.0</td>\n",
       "      <td>NW</td>\n",
       "      <td>4.92</td>\n",
       "      <td>0</td>\n",
       "      <td>0</td>\n",
       "    </tr>\n",
       "    <tr>\n",
       "      <th>2</th>\n",
       "      <td>3</td>\n",
       "      <td>2010</td>\n",
       "      <td>1</td>\n",
       "      <td>1</td>\n",
       "      <td>2</td>\n",
       "      <td>NaN</td>\n",
       "      <td>-21</td>\n",
       "      <td>-11.0</td>\n",
       "      <td>1019.0</td>\n",
       "      <td>NW</td>\n",
       "      <td>6.71</td>\n",
       "      <td>0</td>\n",
       "      <td>0</td>\n",
       "    </tr>\n",
       "    <tr>\n",
       "      <th>3</th>\n",
       "      <td>4</td>\n",
       "      <td>2010</td>\n",
       "      <td>1</td>\n",
       "      <td>1</td>\n",
       "      <td>3</td>\n",
       "      <td>NaN</td>\n",
       "      <td>-21</td>\n",
       "      <td>-14.0</td>\n",
       "      <td>1019.0</td>\n",
       "      <td>NW</td>\n",
       "      <td>9.84</td>\n",
       "      <td>0</td>\n",
       "      <td>0</td>\n",
       "    </tr>\n",
       "    <tr>\n",
       "      <th>4</th>\n",
       "      <td>5</td>\n",
       "      <td>2010</td>\n",
       "      <td>1</td>\n",
       "      <td>1</td>\n",
       "      <td>4</td>\n",
       "      <td>NaN</td>\n",
       "      <td>-20</td>\n",
       "      <td>-12.0</td>\n",
       "      <td>1018.0</td>\n",
       "      <td>NW</td>\n",
       "      <td>12.97</td>\n",
       "      <td>0</td>\n",
       "      <td>0</td>\n",
       "    </tr>\n",
       "    <tr>\n",
       "      <th>...</th>\n",
       "      <td>...</td>\n",
       "      <td>...</td>\n",
       "      <td>...</td>\n",
       "      <td>...</td>\n",
       "      <td>...</td>\n",
       "      <td>...</td>\n",
       "      <td>...</td>\n",
       "      <td>...</td>\n",
       "      <td>...</td>\n",
       "      <td>...</td>\n",
       "      <td>...</td>\n",
       "      <td>...</td>\n",
       "      <td>...</td>\n",
       "    </tr>\n",
       "    <tr>\n",
       "      <th>43819</th>\n",
       "      <td>43820</td>\n",
       "      <td>2014</td>\n",
       "      <td>12</td>\n",
       "      <td>31</td>\n",
       "      <td>19</td>\n",
       "      <td>8.0</td>\n",
       "      <td>-23</td>\n",
       "      <td>-2.0</td>\n",
       "      <td>1034.0</td>\n",
       "      <td>NW</td>\n",
       "      <td>231.97</td>\n",
       "      <td>0</td>\n",
       "      <td>0</td>\n",
       "    </tr>\n",
       "    <tr>\n",
       "      <th>43820</th>\n",
       "      <td>43821</td>\n",
       "      <td>2014</td>\n",
       "      <td>12</td>\n",
       "      <td>31</td>\n",
       "      <td>20</td>\n",
       "      <td>10.0</td>\n",
       "      <td>-22</td>\n",
       "      <td>-3.0</td>\n",
       "      <td>1034.0</td>\n",
       "      <td>NW</td>\n",
       "      <td>237.78</td>\n",
       "      <td>0</td>\n",
       "      <td>0</td>\n",
       "    </tr>\n",
       "    <tr>\n",
       "      <th>43821</th>\n",
       "      <td>43822</td>\n",
       "      <td>2014</td>\n",
       "      <td>12</td>\n",
       "      <td>31</td>\n",
       "      <td>21</td>\n",
       "      <td>10.0</td>\n",
       "      <td>-22</td>\n",
       "      <td>-3.0</td>\n",
       "      <td>1034.0</td>\n",
       "      <td>NW</td>\n",
       "      <td>242.70</td>\n",
       "      <td>0</td>\n",
       "      <td>0</td>\n",
       "    </tr>\n",
       "    <tr>\n",
       "      <th>43822</th>\n",
       "      <td>43823</td>\n",
       "      <td>2014</td>\n",
       "      <td>12</td>\n",
       "      <td>31</td>\n",
       "      <td>22</td>\n",
       "      <td>8.0</td>\n",
       "      <td>-22</td>\n",
       "      <td>-4.0</td>\n",
       "      <td>1034.0</td>\n",
       "      <td>NW</td>\n",
       "      <td>246.72</td>\n",
       "      <td>0</td>\n",
       "      <td>0</td>\n",
       "    </tr>\n",
       "    <tr>\n",
       "      <th>43823</th>\n",
       "      <td>43824</td>\n",
       "      <td>2014</td>\n",
       "      <td>12</td>\n",
       "      <td>31</td>\n",
       "      <td>23</td>\n",
       "      <td>12.0</td>\n",
       "      <td>-21</td>\n",
       "      <td>-3.0</td>\n",
       "      <td>1034.0</td>\n",
       "      <td>NW</td>\n",
       "      <td>249.85</td>\n",
       "      <td>0</td>\n",
       "      <td>0</td>\n",
       "    </tr>\n",
       "  </tbody>\n",
       "</table>\n",
       "<p>43824 rows × 13 columns</p>\n",
       "</div>"
      ],
      "text/plain": [
       "          No  year  month  day  hour  pm2.5  DEWP  TEMP    PRES cbwd     Iws  \\\n",
       "0          1  2010      1    1     0    NaN   -21 -11.0  1021.0   NW    1.79   \n",
       "1          2  2010      1    1     1    NaN   -21 -12.0  1020.0   NW    4.92   \n",
       "2          3  2010      1    1     2    NaN   -21 -11.0  1019.0   NW    6.71   \n",
       "3          4  2010      1    1     3    NaN   -21 -14.0  1019.0   NW    9.84   \n",
       "4          5  2010      1    1     4    NaN   -20 -12.0  1018.0   NW   12.97   \n",
       "...      ...   ...    ...  ...   ...    ...   ...   ...     ...  ...     ...   \n",
       "43819  43820  2014     12   31    19    8.0   -23  -2.0  1034.0   NW  231.97   \n",
       "43820  43821  2014     12   31    20   10.0   -22  -3.0  1034.0   NW  237.78   \n",
       "43821  43822  2014     12   31    21   10.0   -22  -3.0  1034.0   NW  242.70   \n",
       "43822  43823  2014     12   31    22    8.0   -22  -4.0  1034.0   NW  246.72   \n",
       "43823  43824  2014     12   31    23   12.0   -21  -3.0  1034.0   NW  249.85   \n",
       "\n",
       "       Is  Ir  \n",
       "0       0   0  \n",
       "1       0   0  \n",
       "2       0   0  \n",
       "3       0   0  \n",
       "4       0   0  \n",
       "...    ..  ..  \n",
       "43819   0   0  \n",
       "43820   0   0  \n",
       "43821   0   0  \n",
       "43822   0   0  \n",
       "43823   0   0  \n",
       "\n",
       "[43824 rows x 13 columns]"
      ]
     },
     "execution_count": 5,
     "metadata": {},
     "output_type": "execute_result"
    }
   ],
   "source": [
    "df = pd.read_csv('PRSA_data_2010.1.1-2014.12.31.csv')\n",
    "df"
   ]
  },
  {
   "cell_type": "code",
   "execution_count": 6,
   "metadata": {
    "execution": {
     "iopub.execute_input": "2020-10-12T08:57:24.572257Z",
     "iopub.status.busy": "2020-10-12T08:57:24.571408Z",
     "iopub.status.idle": "2020-10-12T08:57:24.603854Z",
     "shell.execute_reply": "2020-10-12T08:57:24.604943Z"
    },
    "papermill": {
     "duration": 0.076074,
     "end_time": "2020-10-12T08:57:24.605107",
     "exception": false,
     "start_time": "2020-10-12T08:57:24.529033",
     "status": "completed"
    },
    "tags": []
   },
   "outputs": [
    {
     "name": "stdout",
     "output_type": "stream",
     "text": [
      "<class 'pandas.core.frame.DataFrame'>\n",
      "RangeIndex: 43824 entries, 0 to 43823\n",
      "Data columns (total 13 columns):\n",
      " #   Column  Non-Null Count  Dtype  \n",
      "---  ------  --------------  -----  \n",
      " 0   No      43824 non-null  int64  \n",
      " 1   year    43824 non-null  int64  \n",
      " 2   month   43824 non-null  int64  \n",
      " 3   day     43824 non-null  int64  \n",
      " 4   hour    43824 non-null  int64  \n",
      " 5   pm2.5   41757 non-null  float64\n",
      " 6   DEWP    43824 non-null  int64  \n",
      " 7   TEMP    43824 non-null  float64\n",
      " 8   PRES    43824 non-null  float64\n",
      " 9   cbwd    43824 non-null  object \n",
      " 10  Iws     43824 non-null  float64\n",
      " 11  Is      43824 non-null  int64  \n",
      " 12  Ir      43824 non-null  int64  \n",
      "dtypes: float64(4), int64(8), object(1)\n",
      "memory usage: 4.3+ MB\n"
     ]
    }
   ],
   "source": [
    "df.info()"
   ]
  },
  {
   "cell_type": "code",
   "execution_count": 7,
   "metadata": {
    "execution": {
     "iopub.execute_input": "2020-10-12T08:57:24.682999Z",
     "iopub.status.busy": "2020-10-12T08:57:24.682087Z",
     "iopub.status.idle": "2020-10-12T08:57:24.687049Z",
     "shell.execute_reply": "2020-10-12T08:57:24.687857Z"
    },
    "papermill": {
     "duration": 0.047596,
     "end_time": "2020-10-12T08:57:24.688041",
     "exception": false,
     "start_time": "2020-10-12T08:57:24.640445",
     "status": "completed"
    },
    "tags": []
   },
   "outputs": [
    {
     "data": {
      "text/plain": [
       "2067"
      ]
     },
     "execution_count": 7,
     "metadata": {},
     "output_type": "execute_result"
    }
   ],
   "source": [
    "df['pm2.5'].isna().sum()"
   ]
  },
  {
   "cell_type": "code",
   "execution_count": 8,
   "metadata": {
    "execution": {
     "iopub.execute_input": "2020-10-12T08:57:24.779204Z",
     "iopub.status.busy": "2020-10-12T08:57:24.778448Z",
     "iopub.status.idle": "2020-10-12T08:57:24.788917Z",
     "shell.execute_reply": "2020-10-12T08:57:24.788402Z"
    },
    "papermill": {
     "duration": 0.06179,
     "end_time": "2020-10-12T08:57:24.789028",
     "exception": false,
     "start_time": "2020-10-12T08:57:24.727238",
     "status": "completed"
    },
    "tags": []
   },
   "outputs": [
    {
     "data": {
      "text/plain": [
       "0"
      ]
     },
     "execution_count": 8,
     "metadata": {},
     "output_type": "execute_result"
    }
   ],
   "source": [
    "# drop the rows directly -> mess up the order\n",
    "# first 24 rows have pm2.5 value that is NaN -> discard\n",
    "# else: forward filling\n",
    "df = df[24:].fillna(method='ffill')\n",
    "df['pm2.5'].isna().sum()"
   ]
  },
  {
   "cell_type": "code",
   "execution_count": 9,
   "metadata": {
    "execution": {
     "iopub.execute_input": "2020-10-12T08:57:24.849230Z",
     "iopub.status.busy": "2020-10-12T08:57:24.848669Z",
     "iopub.status.idle": "2020-10-12T08:57:26.404880Z",
     "shell.execute_reply": "2020-10-12T08:57:26.404284Z"
    },
    "papermill": {
     "duration": 1.590824,
     "end_time": "2020-10-12T08:57:26.405009",
     "exception": false,
     "start_time": "2020-10-12T08:57:24.814185",
     "status": "completed"
    },
    "tags": []
   },
   "outputs": [
    {
     "data": {
      "text/html": [
       "<div>\n",
       "<style scoped>\n",
       "    .dataframe tbody tr th:only-of-type {\n",
       "        vertical-align: middle;\n",
       "    }\n",
       "\n",
       "    .dataframe tbody tr th {\n",
       "        vertical-align: top;\n",
       "    }\n",
       "\n",
       "    .dataframe thead th {\n",
       "        text-align: right;\n",
       "    }\n",
       "</style>\n",
       "<table border=\"1\" class=\"dataframe\">\n",
       "  <thead>\n",
       "    <tr style=\"text-align: right;\">\n",
       "      <th></th>\n",
       "      <th>pm2.5</th>\n",
       "      <th>DEWP</th>\n",
       "      <th>TEMP</th>\n",
       "      <th>PRES</th>\n",
       "      <th>cbwd</th>\n",
       "      <th>Iws</th>\n",
       "      <th>Is</th>\n",
       "      <th>Ir</th>\n",
       "    </tr>\n",
       "    <tr>\n",
       "      <th>time</th>\n",
       "      <th></th>\n",
       "      <th></th>\n",
       "      <th></th>\n",
       "      <th></th>\n",
       "      <th></th>\n",
       "      <th></th>\n",
       "      <th></th>\n",
       "      <th></th>\n",
       "    </tr>\n",
       "  </thead>\n",
       "  <tbody>\n",
       "    <tr>\n",
       "      <th>2010-01-02 00:00:00</th>\n",
       "      <td>129.0</td>\n",
       "      <td>-16</td>\n",
       "      <td>-4.0</td>\n",
       "      <td>1020.0</td>\n",
       "      <td>SE</td>\n",
       "      <td>1.79</td>\n",
       "      <td>0</td>\n",
       "      <td>0</td>\n",
       "    </tr>\n",
       "    <tr>\n",
       "      <th>2010-01-02 01:00:00</th>\n",
       "      <td>148.0</td>\n",
       "      <td>-15</td>\n",
       "      <td>-4.0</td>\n",
       "      <td>1020.0</td>\n",
       "      <td>SE</td>\n",
       "      <td>2.68</td>\n",
       "      <td>0</td>\n",
       "      <td>0</td>\n",
       "    </tr>\n",
       "    <tr>\n",
       "      <th>2010-01-02 02:00:00</th>\n",
       "      <td>159.0</td>\n",
       "      <td>-11</td>\n",
       "      <td>-5.0</td>\n",
       "      <td>1021.0</td>\n",
       "      <td>SE</td>\n",
       "      <td>3.57</td>\n",
       "      <td>0</td>\n",
       "      <td>0</td>\n",
       "    </tr>\n",
       "    <tr>\n",
       "      <th>2010-01-02 03:00:00</th>\n",
       "      <td>181.0</td>\n",
       "      <td>-7</td>\n",
       "      <td>-5.0</td>\n",
       "      <td>1022.0</td>\n",
       "      <td>SE</td>\n",
       "      <td>5.36</td>\n",
       "      <td>1</td>\n",
       "      <td>0</td>\n",
       "    </tr>\n",
       "    <tr>\n",
       "      <th>2010-01-02 04:00:00</th>\n",
       "      <td>138.0</td>\n",
       "      <td>-7</td>\n",
       "      <td>-5.0</td>\n",
       "      <td>1022.0</td>\n",
       "      <td>SE</td>\n",
       "      <td>6.25</td>\n",
       "      <td>2</td>\n",
       "      <td>0</td>\n",
       "    </tr>\n",
       "  </tbody>\n",
       "</table>\n",
       "</div>"
      ],
      "text/plain": [
       "                     pm2.5  DEWP  TEMP    PRES cbwd   Iws  Is  Ir\n",
       "time                                                             \n",
       "2010-01-02 00:00:00  129.0   -16  -4.0  1020.0   SE  1.79   0   0\n",
       "2010-01-02 01:00:00  148.0   -15  -4.0  1020.0   SE  2.68   0   0\n",
       "2010-01-02 02:00:00  159.0   -11  -5.0  1021.0   SE  3.57   0   0\n",
       "2010-01-02 03:00:00  181.0    -7  -5.0  1022.0   SE  5.36   1   0\n",
       "2010-01-02 04:00:00  138.0    -7  -5.0  1022.0   SE  6.25   2   0"
      ]
     },
     "execution_count": 9,
     "metadata": {},
     "output_type": "execute_result"
    }
   ],
   "source": [
    "import datetime\n",
    "\n",
    "df['time'] = df.apply(lambda x : datetime.datetime(year=x['year'], month=x['month'], day=x['day'], hour=x['hour']), axis=1)\n",
    "df.drop(columns=['year', 'month', 'day', 'hour', 'No'], inplace=True)\n",
    "df = df.set_index('time')\n",
    "df.head()"
   ]
  },
  {
   "cell_type": "code",
   "execution_count": 10,
   "metadata": {
    "execution": {
     "iopub.execute_input": "2020-10-12T08:57:26.469916Z",
     "iopub.status.busy": "2020-10-12T08:57:26.468556Z",
     "iopub.status.idle": "2020-10-12T08:57:26.474201Z",
     "shell.execute_reply": "2020-10-12T08:57:26.473722Z"
    },
    "papermill": {
     "duration": 0.03968,
     "end_time": "2020-10-12T08:57:26.474296",
     "exception": false,
     "start_time": "2020-10-12T08:57:26.434616",
     "status": "completed"
    },
    "tags": []
   },
   "outputs": [
    {
     "data": {
      "text/plain": [
       "array(['SE', 'cv', 'NW', 'NE'], dtype=object)"
      ]
     },
     "execution_count": 10,
     "metadata": {},
     "output_type": "execute_result"
    }
   ],
   "source": [
    "df['cbwd'].unique()"
   ]
  },
  {
   "cell_type": "code",
   "execution_count": 11,
   "metadata": {
    "execution": {
     "iopub.execute_input": "2020-10-12T08:57:26.536107Z",
     "iopub.status.busy": "2020-10-12T08:57:26.535238Z",
     "iopub.status.idle": "2020-10-12T08:57:26.559900Z",
     "shell.execute_reply": "2020-10-12T08:57:26.560593Z"
    },
    "papermill": {
     "duration": 0.059537,
     "end_time": "2020-10-12T08:57:26.560722",
     "exception": false,
     "start_time": "2020-10-12T08:57:26.501185",
     "status": "completed"
    },
    "tags": []
   },
   "outputs": [
    {
     "data": {
      "text/html": [
       "<div>\n",
       "<style scoped>\n",
       "    .dataframe tbody tr th:only-of-type {\n",
       "        vertical-align: middle;\n",
       "    }\n",
       "\n",
       "    .dataframe tbody tr th {\n",
       "        vertical-align: top;\n",
       "    }\n",
       "\n",
       "    .dataframe thead th {\n",
       "        text-align: right;\n",
       "    }\n",
       "</style>\n",
       "<table border=\"1\" class=\"dataframe\">\n",
       "  <thead>\n",
       "    <tr style=\"text-align: right;\">\n",
       "      <th></th>\n",
       "      <th>pm2.5</th>\n",
       "      <th>DEWP</th>\n",
       "      <th>TEMP</th>\n",
       "      <th>PRES</th>\n",
       "      <th>Iws</th>\n",
       "      <th>Is</th>\n",
       "      <th>Ir</th>\n",
       "      <th>NE</th>\n",
       "      <th>NW</th>\n",
       "      <th>SE</th>\n",
       "      <th>cv</th>\n",
       "    </tr>\n",
       "    <tr>\n",
       "      <th>time</th>\n",
       "      <th></th>\n",
       "      <th></th>\n",
       "      <th></th>\n",
       "      <th></th>\n",
       "      <th></th>\n",
       "      <th></th>\n",
       "      <th></th>\n",
       "      <th></th>\n",
       "      <th></th>\n",
       "      <th></th>\n",
       "      <th></th>\n",
       "    </tr>\n",
       "  </thead>\n",
       "  <tbody>\n",
       "    <tr>\n",
       "      <th>2010-01-02 00:00:00</th>\n",
       "      <td>129.0</td>\n",
       "      <td>-16</td>\n",
       "      <td>-4.0</td>\n",
       "      <td>1020.0</td>\n",
       "      <td>1.79</td>\n",
       "      <td>0</td>\n",
       "      <td>0</td>\n",
       "      <td>0</td>\n",
       "      <td>0</td>\n",
       "      <td>1</td>\n",
       "      <td>0</td>\n",
       "    </tr>\n",
       "    <tr>\n",
       "      <th>2010-01-02 01:00:00</th>\n",
       "      <td>148.0</td>\n",
       "      <td>-15</td>\n",
       "      <td>-4.0</td>\n",
       "      <td>1020.0</td>\n",
       "      <td>2.68</td>\n",
       "      <td>0</td>\n",
       "      <td>0</td>\n",
       "      <td>0</td>\n",
       "      <td>0</td>\n",
       "      <td>1</td>\n",
       "      <td>0</td>\n",
       "    </tr>\n",
       "    <tr>\n",
       "      <th>2010-01-02 02:00:00</th>\n",
       "      <td>159.0</td>\n",
       "      <td>-11</td>\n",
       "      <td>-5.0</td>\n",
       "      <td>1021.0</td>\n",
       "      <td>3.57</td>\n",
       "      <td>0</td>\n",
       "      <td>0</td>\n",
       "      <td>0</td>\n",
       "      <td>0</td>\n",
       "      <td>1</td>\n",
       "      <td>0</td>\n",
       "    </tr>\n",
       "    <tr>\n",
       "      <th>2010-01-02 03:00:00</th>\n",
       "      <td>181.0</td>\n",
       "      <td>-7</td>\n",
       "      <td>-5.0</td>\n",
       "      <td>1022.0</td>\n",
       "      <td>5.36</td>\n",
       "      <td>1</td>\n",
       "      <td>0</td>\n",
       "      <td>0</td>\n",
       "      <td>0</td>\n",
       "      <td>1</td>\n",
       "      <td>0</td>\n",
       "    </tr>\n",
       "    <tr>\n",
       "      <th>2010-01-02 04:00:00</th>\n",
       "      <td>138.0</td>\n",
       "      <td>-7</td>\n",
       "      <td>-5.0</td>\n",
       "      <td>1022.0</td>\n",
       "      <td>6.25</td>\n",
       "      <td>2</td>\n",
       "      <td>0</td>\n",
       "      <td>0</td>\n",
       "      <td>0</td>\n",
       "      <td>1</td>\n",
       "      <td>0</td>\n",
       "    </tr>\n",
       "  </tbody>\n",
       "</table>\n",
       "</div>"
      ],
      "text/plain": [
       "                     pm2.5  DEWP  TEMP    PRES   Iws  Is  Ir  NE  NW  SE  cv\n",
       "time                                                                        \n",
       "2010-01-02 00:00:00  129.0   -16  -4.0  1020.0  1.79   0   0   0   0   1   0\n",
       "2010-01-02 01:00:00  148.0   -15  -4.0  1020.0  2.68   0   0   0   0   1   0\n",
       "2010-01-02 02:00:00  159.0   -11  -5.0  1021.0  3.57   0   0   0   0   1   0\n",
       "2010-01-02 03:00:00  181.0    -7  -5.0  1022.0  5.36   1   0   0   0   1   0\n",
       "2010-01-02 04:00:00  138.0    -7  -5.0  1022.0  6.25   2   0   0   0   1   0"
      ]
     },
     "execution_count": 11,
     "metadata": {},
     "output_type": "execute_result"
    }
   ],
   "source": [
    "df = df.join(pd.get_dummies(df['cbwd'])) # one-hot encoding\n",
    "del df['cbwd']\n",
    "df.head()"
   ]
  },
  {
   "cell_type": "code",
   "execution_count": 12,
   "metadata": {
    "execution": {
     "iopub.execute_input": "2020-10-12T08:57:26.621784Z",
     "iopub.status.busy": "2020-10-12T08:57:26.621083Z",
     "iopub.status.idle": "2020-10-12T08:57:26.970057Z",
     "shell.execute_reply": "2020-10-12T08:57:26.970707Z"
    },
    "papermill": {
     "duration": 0.380033,
     "end_time": "2020-10-12T08:57:26.970904",
     "exception": false,
     "start_time": "2020-10-12T08:57:26.590871",
     "status": "completed"
    },
    "tags": []
   },
   "outputs": [
    {
     "data": {
      "text/plain": [
       "<AxesSubplot:xlabel='time'>"
      ]
     },
     "execution_count": 12,
     "metadata": {},
     "output_type": "execute_result"
    },
    {
     "data": {
      "image/png": "[encoded data removed]",
      "text/plain": [
       "<Figure size 432x288 with 1 Axes>"
      ]
     },
     "metadata": {
      "needs_background": "light"
     },
     "output_type": "display_data"
    }
   ],
   "source": [
    "df['pm2.5'][-1000:].plot()"
   ]
  },
  {
   "cell_type": "code",
   "execution_count": 13,
   "metadata": {
    "execution": {
     "iopub.execute_input": "2020-10-12T08:57:27.047106Z",
     "iopub.status.busy": "2020-10-12T08:57:27.040656Z",
     "iopub.status.idle": "2020-10-12T08:57:27.303708Z",
     "shell.execute_reply": "2020-10-12T08:57:27.304279Z"
    },
    "papermill": {
     "duration": 0.300674,
     "end_time": "2020-10-12T08:57:27.304437",
     "exception": false,
     "start_time": "2020-10-12T08:57:27.003763",
     "status": "completed"
    },
    "tags": []
   },
   "outputs": [
    {
     "data": {
      "text/plain": [
       "<AxesSubplot:xlabel='time'>"
      ]
     },
     "execution_count": 13,
     "metadata": {},
     "output_type": "execute_result"
    },
    {
     "data": {
      "image/png": "[encoded data removed]",
      "text/plain": [
       "<Figure size 432x288 with 1 Axes>"
      ]
     },
     "metadata": {
      "needs_background": "light"
     },
     "output_type": "display_data"
    }
   ],
   "source": [
    "df['TEMP'][-1000:].plot()"
   ]
  },
  {
   "cell_type": "markdown",
   "metadata": {
    "papermill": {
     "duration": 0.033024,
     "end_time": "2020-10-12T08:57:27.371628",
     "exception": false,
     "start_time": "2020-10-12T08:57:27.338604",
     "status": "completed"
    },
    "tags": []
   },
   "source": [
    "## Determine Parameters"
   ]
  },
  {
   "cell_type": "code",
   "execution_count": 14,
   "metadata": {
    "execution": {
     "iopub.execute_input": "2020-10-12T08:57:27.445665Z",
     "iopub.status.busy": "2020-10-12T08:57:27.444618Z",
     "iopub.status.idle": "2020-10-12T08:57:53.249682Z",
     "shell.execute_reply": "2020-10-12T08:57:53.248712Z"
    },
    "papermill": {
     "duration": 25.845241,
     "end_time": "2020-10-12T08:57:53.249806",
     "exception": false,
     "start_time": "2020-10-12T08:57:27.404565",
     "status": "completed"
    },
    "tags": []
   },
   "outputs": [
    {
     "data": {
      "text/plain": [
       "(43656, 144, 11)"
      ]
     },
     "execution_count": 14,
     "metadata": {},
     "output_type": "execute_result"
    }
   ],
   "source": [
    "seq_len = 5*24 # observe the data for the past 5 days\n",
    "delay = 1*24 # predict the PM2.5 value one day after\n",
    "\n",
    "df_ = np.array([df.iloc[i : i + seq_len + delay].values for i in range(len(df) - seq_len - delay)])\n",
    "df_.shape"
   ]
  },
  {
   "cell_type": "code",
   "execution_count": 15,
   "metadata": {
    "execution": {
     "iopub.execute_input": "2020-10-12T08:57:53.319261Z",
     "iopub.status.busy": "2020-10-12T08:57:53.317773Z",
     "iopub.status.idle": "2020-10-12T08:57:53.519793Z",
     "shell.execute_reply": "2020-10-12T08:57:53.520317Z"
    },
    "papermill": {
     "duration": 0.238998,
     "end_time": "2020-10-12T08:57:53.520472",
     "exception": false,
     "start_time": "2020-10-12T08:57:53.281474",
     "status": "completed"
    },
    "tags": []
   },
   "outputs": [
    {
     "data": {
      "text/plain": [
       "((43656, 120, 11), (43656,))"
      ]
     },
     "execution_count": 15,
     "metadata": {},
     "output_type": "execute_result"
    }
   ],
   "source": [
    "np.random.shuffle(df_)\n",
    "x = df_[:, :5*24, :]\n",
    "y = df_[:, -1, 0]\n",
    "x.shape, y.shape"
   ]
  },
  {
   "cell_type": "markdown",
   "metadata": {
    "papermill": {
     "duration": 0.031629,
     "end_time": "2020-10-12T08:57:53.584675",
     "exception": false,
     "start_time": "2020-10-12T08:57:53.553046",
     "status": "completed"
    },
    "tags": []
   },
   "source": [
    "## Split & Normalize the Data"
   ]
  },
  {
   "cell_type": "code",
   "execution_count": 16,
   "metadata": {
    "execution": {
     "iopub.execute_input": "2020-10-12T08:57:53.654471Z",
     "iopub.status.busy": "2020-10-12T08:57:53.653513Z",
     "iopub.status.idle": "2020-10-12T08:57:54.144143Z",
     "shell.execute_reply": "2020-10-12T08:57:54.143587Z"
    },
    "papermill": {
     "duration": 0.528885,
     "end_time": "2020-10-12T08:57:54.144273",
     "exception": false,
     "start_time": "2020-10-12T08:57:53.615388",
     "status": "completed"
    },
    "tags": []
   },
   "outputs": [],
   "source": [
    "split = int(y.shape[0]*0.8)\n",
    "train_x = x[:split]\n",
    "train_y = y[:split]\n",
    "test_x = x[split:]\n",
    "test_y = y[split:]\n",
    "\n",
    "mean = train_x.mean(axis=0)\n",
    "std = train_x.std(axis=0)\n",
    "train_x = (train_x - mean) / std\n",
    "test_x = (test_x - mean) / std # Use the mean & std of train. Since there's no way for us to know the future."
   ]
  },
  {
   "cell_type": "code",
   "execution_count": 17,
   "metadata": {
    "execution": {
     "iopub.execute_input": "2020-10-12T08:57:54.219105Z",
     "iopub.status.busy": "2020-10-12T08:57:54.218316Z",
     "iopub.status.idle": "2020-10-12T08:57:54.221650Z",
     "shell.execute_reply": "2020-10-12T08:57:54.222160Z"
    },
    "papermill": {
     "duration": 0.041811,
     "end_time": "2020-10-12T08:57:54.222321",
     "exception": false,
     "start_time": "2020-10-12T08:57:54.180510",
     "status": "completed"
    },
    "tags": []
   },
   "outputs": [
    {
     "data": {
      "text/plain": [
       "((34924, 120, 11), (8732, 120, 11))"
      ]
     },
     "execution_count": 17,
     "metadata": {},
     "output_type": "execute_result"
    }
   ],
   "source": [
    "train_x.shape, test_x.shape"
   ]
  },
  {
   "cell_type": "markdown",
   "metadata": {
    "papermill": {
     "duration": 0.036551,
     "end_time": "2020-10-12T08:57:54.295768",
     "exception": false,
     "start_time": "2020-10-12T08:57:54.259217",
     "status": "completed"
    },
    "tags": []
   },
   "source": [
    "## Start by Trying a Simple Model"
   ]
  },
  {
   "cell_type": "code",
   "execution_count": 18,
   "metadata": {
    "execution": {
     "iopub.execute_input": "2020-10-12T08:57:54.371518Z",
     "iopub.status.busy": "2020-10-12T08:57:54.370832Z",
     "iopub.status.idle": "2020-10-12T08:57:57.105647Z",
     "shell.execute_reply": "2020-10-12T08:57:57.114814Z"
    },
    "papermill": {
     "duration": 2.784576,
     "end_time": "2020-10-12T08:57:57.115020",
     "exception": false,
     "start_time": "2020-10-12T08:57:54.330444",
     "status": "completed"
    },
    "tags": []
   },
   "outputs": [
    {
     "ename": "NameError",
     "evalue": "name 'keras' is not defined",
     "output_type": "error",
     "traceback": [
      "\u001b[1;31m---------------------------------------------------------------------------\u001b[0m",
      "\u001b[1;31mNameError\u001b[0m                                 Traceback (most recent call last)",
      "\u001b[1;32m<ipython-input-18-db5d34a4300d>\u001b[0m in \u001b[0;36m<module>\u001b[1;34m\u001b[0m\n\u001b[1;32m----> 1\u001b[1;33m \u001b[0mmodel\u001b[0m \u001b[1;33m=\u001b[0m \u001b[0mkeras\u001b[0m\u001b[1;33m.\u001b[0m\u001b[0mSequential\u001b[0m\u001b[1;33m(\u001b[0m\u001b[1;33m)\u001b[0m\u001b[1;33m\u001b[0m\u001b[1;33m\u001b[0m\u001b[0m\n\u001b[0m\u001b[0;32m      2\u001b[0m \u001b[0mmodel\u001b[0m\u001b[1;33m.\u001b[0m\u001b[0madd\u001b[0m\u001b[1;33m(\u001b[0m\u001b[0mlayers\u001b[0m\u001b[1;33m.\u001b[0m\u001b[0mFlatten\u001b[0m\u001b[1;33m(\u001b[0m\u001b[0minput_shape\u001b[0m\u001b[1;33m=\u001b[0m\u001b[1;33m(\u001b[0m\u001b[1;36m120\u001b[0m\u001b[1;33m,\u001b[0m \u001b[1;36m11\u001b[0m\u001b[1;33m)\u001b[0m\u001b[1;33m)\u001b[0m\u001b[1;33m)\u001b[0m\u001b[1;33m\u001b[0m\u001b[1;33m\u001b[0m\u001b[0m\n\u001b[0;32m      3\u001b[0m \u001b[0mmodel\u001b[0m\u001b[1;33m.\u001b[0m\u001b[0madd\u001b[0m\u001b[1;33m(\u001b[0m\u001b[0mlayers\u001b[0m\u001b[1;33m.\u001b[0m\u001b[0mDense\u001b[0m\u001b[1;33m(\u001b[0m\u001b[1;36m32\u001b[0m\u001b[1;33m,\u001b[0m \u001b[0mactivation\u001b[0m\u001b[1;33m=\u001b[0m\u001b[1;34m'relu'\u001b[0m\u001b[1;33m)\u001b[0m\u001b[1;33m)\u001b[0m\u001b[1;33m\u001b[0m\u001b[1;33m\u001b[0m\u001b[0m\n\u001b[0;32m      4\u001b[0m \u001b[0mmodel\u001b[0m\u001b[1;33m.\u001b[0m\u001b[0madd\u001b[0m\u001b[1;33m(\u001b[0m\u001b[0mlayers\u001b[0m\u001b[1;33m.\u001b[0m\u001b[0mDense\u001b[0m\u001b[1;33m(\u001b[0m\u001b[1;36m1\u001b[0m\u001b[1;33m)\u001b[0m\u001b[1;33m)\u001b[0m \u001b[1;31m# Regression -> No Need for Activation\u001b[0m\u001b[1;33m\u001b[0m\u001b[1;33m\u001b[0m\u001b[0m\n\u001b[0;32m      5\u001b[0m \u001b[1;33m\u001b[0m\u001b[0m\n",
      "\u001b[1;31mNameError\u001b[0m: name 'keras' is not defined"
     ]
    }
   ],
   "source": [
    "model = keras.Sequential()\n",
    "model.add(layers.Flatten(input_shape=(120, 11)))\n",
    "model.add(layers.Dense(32, activation='relu'))\n",
    "model.add(layers.Dense(1)) # Regression -> No Need for Activation\n",
    "\n",
    "model.summary()"
   ]
  },
  {
   "cell_type": "code",
   "execution_count": 16,
   "metadata": {
    "execution": {
     "iopub.execute_input": "2020-10-12T08:57:57.238568Z",
     "iopub.status.busy": "2020-10-12T08:57:57.237156Z",
     "iopub.status.idle": "2020-10-12T08:58:39.985871Z",
     "shell.execute_reply": "2020-10-12T08:58:39.986778Z"
    },
    "papermill": {
     "duration": 42.815503,
     "end_time": "2020-10-12T08:58:39.986942",
     "exception": false,
     "start_time": "2020-10-12T08:57:57.171439",
     "status": "completed"
    },
    "tags": []
   },
   "outputs": [
    {
     "name": "stdout",
     "output_type": "stream",
     "text": [
      "Epoch 1/50\n",
      "273/273 [==============================] - 1s 4ms/step - loss: 10558.8174 - mae: 73.6832 - val_loss: 8109.5820 - val_mae: 66.6436\n",
      "Epoch 2/50\n",
      "273/273 [==============================] - 1s 3ms/step - loss: 7853.4575 - mae: 65.6194 - val_loss: 7290.0532 - val_mae: 63.0301\n",
      "Epoch 3/50\n",
      "273/273 [==============================] - 1s 3ms/step - loss: 7174.3193 - mae: 62.4789 - val_loss: 6981.0815 - val_mae: 61.3691\n",
      "Epoch 4/50\n",
      "273/273 [==============================] - 1s 3ms/step - loss: 6850.7158 - mae: 60.8652 - val_loss: 6794.8818 - val_mae: 61.0892\n",
      "Epoch 5/50\n",
      "273/273 [==============================] - 1s 3ms/step - loss: 6634.7495 - mae: 59.8214 - val_loss: 6664.1519 - val_mae: 60.3337\n",
      "Epoch 6/50\n",
      "273/273 [==============================] - 1s 3ms/step - loss: 6463.7451 - mae: 59.0154 - val_loss: 6552.9756 - val_mae: 59.7059\n",
      "Epoch 7/50\n",
      "273/273 [==============================] - 1s 3ms/step - loss: 6315.1768 - mae: 58.3521 - val_loss: 6459.2451 - val_mae: 59.3068\n",
      "Epoch 8/50\n",
      "273/273 [==============================] - 1s 3ms/step - loss: 6198.5781 - mae: 57.8166 - val_loss: 6389.4702 - val_mae: 58.8381\n",
      "Epoch 9/50\n",
      "273/273 [==============================] - 1s 3ms/step - loss: 6086.6226 - mae: 57.3073 - val_loss: 6349.9790 - val_mae: 58.4057\n",
      "Epoch 10/50\n",
      "273/273 [==============================] - 1s 3ms/step - loss: 5992.0957 - mae: 56.9586 - val_loss: 6284.5645 - val_mae: 58.2549\n",
      "Epoch 11/50\n",
      "273/273 [==============================] - 1s 3ms/step - loss: 5907.3696 - mae: 56.5558 - val_loss: 6237.9102 - val_mae: 58.3099\n",
      "Epoch 12/50\n",
      "273/273 [==============================] - 1s 4ms/step - loss: 5821.9561 - mae: 56.1698 - val_loss: 6164.3467 - val_mae: 57.9211\n",
      "Epoch 13/50\n",
      "273/273 [==============================] - 1s 3ms/step - loss: 5744.6094 - mae: 55.8282 - val_loss: 6211.3657 - val_mae: 57.4572\n",
      "Epoch 14/50\n",
      "273/273 [==============================] - 1s 3ms/step - loss: 5663.4683 - mae: 55.4619 - val_loss: 6076.8931 - val_mae: 57.4241\n",
      "Epoch 15/50\n",
      "273/273 [==============================] - 1s 3ms/step - loss: 5579.3887 - mae: 55.0124 - val_loss: 6002.1865 - val_mae: 57.3801\n",
      "Epoch 16/50\n",
      "273/273 [==============================] - 1s 3ms/step - loss: 5497.9663 - mae: 54.6321 - val_loss: 5978.9531 - val_mae: 57.0765\n",
      "Epoch 17/50\n",
      "273/273 [==============================] - 1s 3ms/step - loss: 5432.1484 - mae: 54.2179 - val_loss: 5936.2886 - val_mae: 56.5240\n",
      "Epoch 18/50\n",
      "273/273 [==============================] - 2s 6ms/step - loss: 5334.2183 - mae: 53.7220 - val_loss: 5847.3799 - val_mae: 56.5493\n",
      "Epoch 19/50\n",
      "273/273 [==============================] - 1s 4ms/step - loss: 5252.1772 - mae: 53.2079 - val_loss: 5776.8594 - val_mae: 55.8551\n",
      "Epoch 20/50\n",
      "273/273 [==============================] - 1s 3ms/step - loss: 5154.5278 - mae: 52.7406 - val_loss: 5740.2500 - val_mae: 55.9283\n",
      "Epoch 21/50\n",
      "273/273 [==============================] - 1s 3ms/step - loss: 5083.9385 - mae: 52.3558 - val_loss: 5689.2793 - val_mae: 55.7195\n",
      "Epoch 22/50\n",
      "273/273 [==============================] - 1s 3ms/step - loss: 5013.5874 - mae: 51.9279 - val_loss: 5628.6094 - val_mae: 55.3312\n",
      "Epoch 23/50\n",
      "273/273 [==============================] - 1s 3ms/step - loss: 4944.3574 - mae: 51.6042 - val_loss: 5608.0981 - val_mae: 55.2970\n",
      "Epoch 24/50\n",
      "273/273 [==============================] - 1s 4ms/step - loss: 4876.8535 - mae: 51.2972 - val_loss: 5596.5635 - val_mae: 55.1228\n",
      "Epoch 25/50\n",
      "273/273 [==============================] - 1s 3ms/step - loss: 4813.3999 - mae: 50.9689 - val_loss: 5509.4150 - val_mae: 54.4815\n",
      "Epoch 26/50\n",
      "273/273 [==============================] - 1s 3ms/step - loss: 4764.0864 - mae: 50.6937 - val_loss: 5490.4805 - val_mae: 54.5997\n",
      "Epoch 27/50\n",
      "273/273 [==============================] - 1s 3ms/step - loss: 4700.2808 - mae: 50.3908 - val_loss: 5433.0654 - val_mae: 54.2146\n",
      "Epoch 28/50\n",
      "273/273 [==============================] - 1s 3ms/step - loss: 4628.9404 - mae: 49.9930 - val_loss: 5425.8579 - val_mae: 54.5021\n",
      "Epoch 29/50\n",
      "273/273 [==============================] - 1s 3ms/step - loss: 4583.6660 - mae: 49.7670 - val_loss: 5387.8149 - val_mae: 54.1458\n",
      "Epoch 30/50\n",
      "273/273 [==============================] - 1s 3ms/step - loss: 4542.2109 - mae: 49.5179 - val_loss: 5355.7422 - val_mae: 54.0027\n",
      "Epoch 31/50\n",
      "273/273 [==============================] - 1s 3ms/step - loss: 4480.3267 - mae: 49.1648 - val_loss: 5374.8262 - val_mae: 54.2927\n",
      "Epoch 32/50\n",
      "273/273 [==============================] - 1s 3ms/step - loss: 4439.3228 - mae: 49.0134 - val_loss: 5338.8276 - val_mae: 54.2559\n",
      "Epoch 33/50\n",
      "273/273 [==============================] - 1s 3ms/step - loss: 4383.0518 - mae: 48.6404 - val_loss: 5267.2910 - val_mae: 53.5757\n",
      "Epoch 34/50\n",
      "273/273 [==============================] - 1s 3ms/step - loss: 4329.8774 - mae: 48.3742 - val_loss: 5268.0063 - val_mae: 53.6189\n",
      "Epoch 35/50\n",
      "273/273 [==============================] - 1s 3ms/step - loss: 4278.7461 - mae: 48.0856 - val_loss: 5243.4053 - val_mae: 53.2198\n",
      "Epoch 36/50\n",
      "273/273 [==============================] - 1s 3ms/step - loss: 4242.4819 - mae: 47.8982 - val_loss: 5260.5781 - val_mae: 53.8192\n",
      "Epoch 37/50\n",
      "273/273 [==============================] - 1s 3ms/step - loss: 4193.2178 - mae: 47.6147 - val_loss: 5204.3926 - val_mae: 52.9291\n",
      "Epoch 38/50\n",
      "273/273 [==============================] - 1s 4ms/step - loss: 4144.0938 - mae: 47.3206 - val_loss: 5159.3911 - val_mae: 52.8355\n",
      "Epoch 39/50\n",
      "273/273 [==============================] - 1s 3ms/step - loss: 4094.1926 - mae: 47.0160 - val_loss: 5171.5151 - val_mae: 53.0323\n",
      "Epoch 40/50\n",
      "273/273 [==============================] - 1s 3ms/step - loss: 4054.1780 - mae: 46.8222 - val_loss: 5194.4258 - val_mae: 53.4219\n",
      "Epoch 41/50\n",
      "273/273 [==============================] - 1s 3ms/step - loss: 4025.9641 - mae: 46.6404 - val_loss: 5129.2812 - val_mae: 52.6828\n",
      "Epoch 42/50\n",
      "273/273 [==============================] - 1s 3ms/step - loss: 3992.6665 - mae: 46.3974 - val_loss: 5140.3755 - val_mae: 53.0585\n",
      "Epoch 43/50\n",
      "273/273 [==============================] - 1s 3ms/step - loss: 3942.4138 - mae: 46.1510 - val_loss: 5074.7622 - val_mae: 52.5119\n",
      "Epoch 44/50\n",
      "273/273 [==============================] - 1s 3ms/step - loss: 3893.3396 - mae: 45.8542 - val_loss: 5079.3276 - val_mae: 52.4822\n",
      "Epoch 45/50\n",
      "273/273 [==============================] - 1s 3ms/step - loss: 3868.8989 - mae: 45.7011 - val_loss: 5062.9214 - val_mae: 52.3187\n",
      "Epoch 46/50\n",
      "273/273 [==============================] - 1s 3ms/step - loss: 3821.6060 - mae: 45.3807 - val_loss: 5087.0347 - val_mae: 52.6835\n",
      "Epoch 47/50\n",
      "273/273 [==============================] - 1s 3ms/step - loss: 3784.2573 - mae: 45.2401 - val_loss: 5132.5234 - val_mae: 53.2615\n",
      "Epoch 48/50\n",
      "273/273 [==============================] - 1s 3ms/step - loss: 3759.3591 - mae: 45.1076 - val_loss: 4985.0645 - val_mae: 52.0892\n",
      "Epoch 49/50\n",
      "273/273 [==============================] - 1s 3ms/step - loss: 3713.5847 - mae: 44.7933 - val_loss: 5044.1846 - val_mae: 52.8324\n",
      "Epoch 50/50\n",
      "273/273 [==============================] - 1s 3ms/step - loss: 3681.4983 - mae: 44.6155 - val_loss: 4973.1846 - val_mae: 52.1153\n"
     ]
    }
   ],
   "source": [
    "model.compile(optimizer='adam', loss='mse', metrics=['mae'])\n",
    "history = model.fit(train_x, train_y, batch_size=128, epochs=50, validation_data=(test_x, test_y))"
   ]
  },
  {
   "cell_type": "code",
   "execution_count": 17,
   "metadata": {
    "execution": {
     "iopub.execute_input": "2020-10-12T08:58:40.579920Z",
     "iopub.status.busy": "2020-10-12T08:58:40.578181Z",
     "iopub.status.idle": "2020-10-12T08:58:40.723431Z",
     "shell.execute_reply": "2020-10-12T08:58:40.722558Z"
    },
    "papermill": {
     "duration": 0.446323,
     "end_time": "2020-10-12T08:58:40.723590",
     "exception": false,
     "start_time": "2020-10-12T08:58:40.277267",
     "status": "completed"
    },
    "tags": []
   },
   "outputs": [
    {
     "data": {
      "text/plain": [
       "[<matplotlib.lines.Line2D at 0x7fc80c1be490>]"
      ]
     },
     "execution_count": 17,
     "metadata": {},
     "output_type": "execute_result"
    },
    {
     "data": {
      "image/png": "[encoded data removed]",
      "text/plain": [
       "<Figure size 432x288 with 1 Axes>"
      ]
     },
     "metadata": {
      "needs_background": "light"
     },
     "output_type": "display_data"
    }
   ],
   "source": [
    "plt.plot(history.epoch, history.history['mae'], c='m')\n",
    "plt.plot(history.epoch, history.history['val_mae'], c='c')"
   ]
  },
  {
   "cell_type": "markdown",
   "metadata": {
    "papermill": {
     "duration": 0.434315,
     "end_time": "2020-10-12T08:58:41.575614",
     "exception": false,
     "start_time": "2020-10-12T08:58:41.141299",
     "status": "completed"
    },
    "tags": []
   },
   "source": [
    "## Build LSTM Model (Single-Layer)\n",
    "\n",
    "(34924, 120, 11) -> (batch, time for observation, features per observation)"
   ]
  },
  {
   "cell_type": "code",
   "execution_count": 18,
   "metadata": {
    "execution": {
     "iopub.execute_input": "2020-10-12T08:58:42.193682Z",
     "iopub.status.busy": "2020-10-12T08:58:42.192629Z",
     "iopub.status.idle": "2020-10-12T08:58:42.456301Z",
     "shell.execute_reply": "2020-10-12T08:58:42.456795Z"
    },
    "papermill": {
     "duration": 0.574962,
     "end_time": "2020-10-12T08:58:42.456948",
     "exception": false,
     "start_time": "2020-10-12T08:58:41.881986",
     "status": "completed"
    },
    "tags": []
   },
   "outputs": [
    {
     "name": "stdout",
     "output_type": "stream",
     "text": [
      "Model: \"sequential_1\"\n",
      "_________________________________________________________________\n",
      "Layer (type)                 Output Shape              Param #   \n",
      "=================================================================\n",
      "lstm (LSTM)                  (None, 32)                5632      \n",
      "_________________________________________________________________\n",
      "dense_2 (Dense)              (None, 1)                 33        \n",
      "=================================================================\n",
      "Total params: 5,665\n",
      "Trainable params: 5,665\n",
      "Non-trainable params: 0\n",
      "_________________________________________________________________\n"
     ]
    }
   ],
   "source": [
    "model = keras.Sequential()\n",
    "model.add(layers.LSTM(32, input_shape=(120, 11)))\n",
    "model.add(layers.Dense(1))\n",
    "model.summary()"
   ]
  },
  {
   "cell_type": "code",
   "execution_count": 19,
   "metadata": {
    "execution": {
     "iopub.execute_input": "2020-10-12T08:58:43.076552Z",
     "iopub.status.busy": "2020-10-12T08:58:43.075631Z",
     "iopub.status.idle": "2020-10-12T09:04:05.850194Z",
     "shell.execute_reply": "2020-10-12T09:04:05.827338Z"
    },
    "papermill": {
     "duration": 323.102334,
     "end_time": "2020-10-12T09:04:05.850360",
     "exception": false,
     "start_time": "2020-10-12T08:58:42.748026",
     "status": "completed"
    },
    "tags": []
   },
   "outputs": [
    {
     "name": "stdout",
     "output_type": "stream",
     "text": [
      "Epoch 1/150\n",
      "273/273 [==============================] - 3s 9ms/step - loss: 88.2862 - val_loss: 80.7078\n",
      "Epoch 2/150\n",
      "273/273 [==============================] - 2s 7ms/step - loss: 79.9050 - val_loss: 75.6677\n",
      "Epoch 3/150\n",
      "273/273 [==============================] - 2s 8ms/step - loss: 75.7103 - val_loss: 72.0946\n",
      "Epoch 4/150\n",
      "273/273 [==============================] - 2s 7ms/step - loss: 72.6449 - val_loss: 69.4177\n",
      "Epoch 5/150\n",
      "273/273 [==============================] - 2s 7ms/step - loss: 70.3310 - val_loss: 67.3844\n",
      "Epoch 6/150\n",
      "273/273 [==============================] - 2s 7ms/step - loss: 68.5055 - val_loss: 65.7439\n",
      "Epoch 7/150\n",
      "273/273 [==============================] - 2s 7ms/step - loss: 66.9308 - val_loss: 64.2163\n",
      "Epoch 8/150\n",
      "273/273 [==============================] - 2s 8ms/step - loss: 65.4620 - val_loss: 62.9992\n",
      "Epoch 9/150\n",
      "273/273 [==============================] - 2s 7ms/step - loss: 64.2356 - val_loss: 61.9115\n",
      "Epoch 10/150\n",
      "273/273 [==============================] - 2s 7ms/step - loss: 63.1207 - val_loss: 60.9292\n",
      "Epoch 11/150\n",
      "273/273 [==============================] - 2s 7ms/step - loss: 62.2278 - val_loss: 60.2492\n",
      "Epoch 12/150\n",
      "273/273 [==============================] - 2s 7ms/step - loss: 61.4749 - val_loss: 59.8477\n",
      "Epoch 13/150\n",
      "273/273 [==============================] - 3s 10ms/step - loss: 60.9351 - val_loss: 59.3278\n",
      "Epoch 14/150\n",
      "273/273 [==============================] - 2s 8ms/step - loss: 60.4788 - val_loss: 58.9087\n",
      "Epoch 15/150\n",
      "273/273 [==============================] - 3s 10ms/step - loss: 60.0591 - val_loss: 58.6215\n",
      "Epoch 16/150\n",
      "273/273 [==============================] - 2s 8ms/step - loss: 59.7292 - val_loss: 58.3091\n",
      "Epoch 17/150\n",
      "273/273 [==============================] - 2s 7ms/step - loss: 59.6524 - val_loss: 58.1443\n",
      "Epoch 18/150\n",
      "273/273 [==============================] - 2s 8ms/step - loss: 59.7213 - val_loss: 58.6014\n",
      "Epoch 19/150\n",
      "273/273 [==============================] - 2s 7ms/step - loss: 60.5879 - val_loss: 58.4921\n",
      "Epoch 20/150\n",
      "273/273 [==============================] - 2s 7ms/step - loss: 59.2238 - val_loss: 57.9683\n",
      "Epoch 21/150\n",
      "273/273 [==============================] - 2s 7ms/step - loss: 58.7988 - val_loss: 58.1469\n",
      "Epoch 22/150\n",
      "273/273 [==============================] - 2s 7ms/step - loss: 58.7919 - val_loss: 57.6960\n",
      "Epoch 23/150\n",
      "273/273 [==============================] - 2s 7ms/step - loss: 58.6682 - val_loss: 57.7141\n",
      "Epoch 24/150\n",
      "273/273 [==============================] - 2s 8ms/step - loss: 58.4735 - val_loss: 57.5016\n",
      "Epoch 25/150\n",
      "273/273 [==============================] - 2s 8ms/step - loss: 58.2727 - val_loss: 57.2932\n",
      "Epoch 26/150\n",
      "273/273 [==============================] - 2s 8ms/step - loss: 58.1796 - val_loss: 57.1865\n",
      "Epoch 27/150\n",
      "273/273 [==============================] - 2s 8ms/step - loss: 57.9194 - val_loss: 57.1810\n",
      "Epoch 28/150\n",
      "273/273 [==============================] - 2s 8ms/step - loss: 57.7261 - val_loss: 56.8544\n",
      "Epoch 29/150\n",
      "273/273 [==============================] - 2s 8ms/step - loss: 57.4366 - val_loss: 56.6891\n",
      "Epoch 30/150\n",
      "273/273 [==============================] - 2s 9ms/step - loss: 57.4664 - val_loss: 56.9686\n",
      "Epoch 31/150\n",
      "273/273 [==============================] - 2s 7ms/step - loss: 57.8348 - val_loss: 58.3983\n",
      "Epoch 32/150\n",
      "273/273 [==============================] - 2s 7ms/step - loss: 58.2593 - val_loss: 57.0927\n",
      "Epoch 33/150\n",
      "273/273 [==============================] - 2s 7ms/step - loss: 58.2577 - val_loss: 57.1619\n",
      "Epoch 34/150\n",
      "273/273 [==============================] - 2s 8ms/step - loss: 57.7380 - val_loss: 56.5376\n",
      "Epoch 35/150\n",
      "273/273 [==============================] - 2s 7ms/step - loss: 57.2584 - val_loss: 56.5659\n",
      "Epoch 36/150\n",
      "273/273 [==============================] - 2s 7ms/step - loss: 57.0001 - val_loss: 56.6400\n",
      "Epoch 37/150\n",
      "273/273 [==============================] - 2s 7ms/step - loss: 57.0141 - val_loss: 56.3803\n",
      "Epoch 38/150\n",
      "273/273 [==============================] - 2s 7ms/step - loss: 57.0140 - val_loss: 56.1665\n",
      "Epoch 39/150\n",
      "273/273 [==============================] - 2s 8ms/step - loss: 56.5717 - val_loss: 56.7754\n",
      "Epoch 40/150\n",
      "273/273 [==============================] - 2s 8ms/step - loss: 56.7306 - val_loss: 55.8494\n",
      "Epoch 41/150\n",
      "273/273 [==============================] - 2s 8ms/step - loss: 56.1923 - val_loss: 55.6811\n",
      "Epoch 42/150\n",
      "273/273 [==============================] - 2s 8ms/step - loss: 55.8645 - val_loss: 55.3314\n",
      "Epoch 43/150\n",
      "273/273 [==============================] - 2s 9ms/step - loss: 55.5811 - val_loss: 55.5616\n",
      "Epoch 44/150\n",
      "273/273 [==============================] - 2s 8ms/step - loss: 55.3076 - val_loss: 54.7151\n",
      "Epoch 45/150\n",
      "273/273 [==============================] - 2s 9ms/step - loss: 55.4296 - val_loss: 54.8570\n",
      "Epoch 46/150\n",
      "273/273 [==============================] - 2s 7ms/step - loss: 55.1641 - val_loss: 54.5863\n",
      "Epoch 47/150\n",
      "273/273 [==============================] - 2s 7ms/step - loss: 55.5530 - val_loss: 56.3523\n",
      "Epoch 48/150\n",
      "273/273 [==============================] - 2s 7ms/step - loss: 55.8651 - val_loss: 54.4892\n",
      "Epoch 49/150\n",
      "273/273 [==============================] - 2s 8ms/step - loss: 54.8195 - val_loss: 54.7059\n",
      "Epoch 50/150\n",
      "273/273 [==============================] - 2s 8ms/step - loss: 54.7690 - val_loss: 54.4914\n",
      "Epoch 51/150\n",
      "273/273 [==============================] - 2s 7ms/step - loss: 54.2009 - val_loss: 54.0770\n",
      "Epoch 52/150\n",
      "273/273 [==============================] - 2s 7ms/step - loss: 53.7572 - val_loss: 53.8322\n",
      "Epoch 53/150\n",
      "273/273 [==============================] - 2s 7ms/step - loss: 54.4170 - val_loss: 54.3418\n",
      "Epoch 54/150\n",
      "273/273 [==============================] - 2s 7ms/step - loss: 53.3251 - val_loss: 53.0547\n",
      "Epoch 55/150\n",
      "273/273 [==============================] - 2s 8ms/step - loss: 52.6272 - val_loss: 52.6349\n",
      "Epoch 56/150\n",
      "273/273 [==============================] - 2s 7ms/step - loss: 52.7648 - val_loss: 52.6985\n",
      "Epoch 57/150\n",
      "273/273 [==============================] - 2s 7ms/step - loss: 52.4728 - val_loss: 54.7571\n",
      "Epoch 58/150\n",
      "273/273 [==============================] - 2s 9ms/step - loss: 54.5146 - val_loss: 53.9493\n",
      "Epoch 59/150\n",
      "273/273 [==============================] - 2s 7ms/step - loss: 52.7719 - val_loss: 53.1377\n",
      "Epoch 60/150\n",
      "273/273 [==============================] - 2s 8ms/step - loss: 51.9551 - val_loss: 52.2710\n",
      "Epoch 61/150\n",
      "273/273 [==============================] - 2s 9ms/step - loss: 51.8867 - val_loss: 51.9644\n",
      "Epoch 62/150\n",
      "273/273 [==============================] - 2s 7ms/step - loss: 51.4802 - val_loss: 51.9824\n",
      "Epoch 63/150\n",
      "273/273 [==============================] - 2s 7ms/step - loss: 51.0659 - val_loss: 51.3565\n",
      "Epoch 64/150\n",
      "273/273 [==============================] - 2s 7ms/step - loss: 51.8494 - val_loss: 52.6043\n",
      "Epoch 65/150\n",
      "273/273 [==============================] - 2s 8ms/step - loss: 52.4401 - val_loss: 52.2057\n",
      "Epoch 66/150\n",
      "273/273 [==============================] - 2s 8ms/step - loss: 51.7481 - val_loss: 53.2444\n",
      "Epoch 67/150\n",
      "273/273 [==============================] - 2s 7ms/step - loss: 51.6263 - val_loss: 51.4681\n",
      "Epoch 68/150\n",
      "273/273 [==============================] - 2s 7ms/step - loss: 55.9284 - val_loss: 60.0831\n",
      "Epoch 69/150\n",
      "273/273 [==============================] - 2s 7ms/step - loss: 58.7486 - val_loss: 56.7583\n",
      "Epoch 70/150\n",
      "273/273 [==============================] - 2s 9ms/step - loss: 57.2921 - val_loss: 56.4391\n",
      "Epoch 71/150\n",
      "273/273 [==============================] - 3s 9ms/step - loss: 56.6012 - val_loss: 55.3937\n",
      "Epoch 72/150\n",
      "273/273 [==============================] - 2s 8ms/step - loss: 56.1176 - val_loss: 55.0257\n",
      "Epoch 73/150\n",
      "273/273 [==============================] - 3s 9ms/step - loss: 54.9906 - val_loss: 54.3263\n",
      "Epoch 74/150\n",
      "273/273 [==============================] - 2s 7ms/step - loss: 54.5095 - val_loss: 54.1657\n",
      "Epoch 75/150\n",
      "273/273 [==============================] - 2s 7ms/step - loss: 53.7378 - val_loss: 53.3734\n",
      "Epoch 76/150\n",
      "273/273 [==============================] - 3s 9ms/step - loss: 53.1720 - val_loss: 52.8478\n",
      "Epoch 77/150\n",
      "273/273 [==============================] - 2s 7ms/step - loss: 52.7342 - val_loss: 53.0071\n",
      "Epoch 78/150\n",
      "273/273 [==============================] - 2s 7ms/step - loss: 53.7999 - val_loss: 53.4105\n",
      "Epoch 79/150\n",
      "273/273 [==============================] - 2s 7ms/step - loss: 52.4443 - val_loss: 52.7816\n",
      "Epoch 80/150\n",
      "273/273 [==============================] - 2s 7ms/step - loss: 52.4968 - val_loss: 53.0015\n",
      "Epoch 81/150\n",
      "273/273 [==============================] - 2s 8ms/step - loss: 51.6501 - val_loss: 52.6147\n",
      "Epoch 82/150\n",
      "273/273 [==============================] - 2s 7ms/step - loss: 51.1395 - val_loss: 51.1007\n",
      "Epoch 83/150\n",
      "273/273 [==============================] - 2s 7ms/step - loss: 51.7238 - val_loss: 52.0746\n",
      "Epoch 84/150\n",
      "273/273 [==============================] - 2s 7ms/step - loss: 53.4120 - val_loss: 54.6011\n",
      "Epoch 85/150\n",
      "273/273 [==============================] - 2s 7ms/step - loss: 53.3445 - val_loss: 52.9697\n",
      "Epoch 86/150\n",
      "273/273 [==============================] - 2s 8ms/step - loss: 53.9503 - val_loss: 55.6553\n",
      "Epoch 87/150\n",
      "273/273 [==============================] - 2s 7ms/step - loss: 53.8268 - val_loss: 53.1394\n",
      "Epoch 88/150\n",
      "273/273 [==============================] - 2s 9ms/step - loss: 52.2394 - val_loss: 52.4045\n",
      "Epoch 89/150\n",
      "273/273 [==============================] - 2s 8ms/step - loss: 51.6042 - val_loss: 52.1623\n",
      "Epoch 90/150\n",
      "273/273 [==============================] - 2s 7ms/step - loss: 51.9374 - val_loss: 52.3771\n",
      "Epoch 91/150\n",
      "273/273 [==============================] - 3s 10ms/step - loss: 51.7364 - val_loss: 51.9911\n",
      "Epoch 92/150\n",
      "273/273 [==============================] - 2s 8ms/step - loss: 51.1874 - val_loss: 51.2280\n",
      "Epoch 93/150\n",
      "273/273 [==============================] - 2s 7ms/step - loss: 50.0875 - val_loss: 50.6953\n",
      "Epoch 94/150\n",
      "273/273 [==============================] - 2s 7ms/step - loss: 49.6863 - val_loss: 50.2156\n",
      "Epoch 95/150\n",
      "273/273 [==============================] - 2s 7ms/step - loss: 51.0729 - val_loss: 57.1618\n",
      "Epoch 96/150\n",
      "273/273 [==============================] - 2s 7ms/step - loss: 53.9896 - val_loss: 54.3346\n",
      "Epoch 97/150\n",
      "273/273 [==============================] - 2s 8ms/step - loss: 53.5607 - val_loss: 52.4725\n",
      "Epoch 98/150\n",
      "273/273 [==============================] - 2s 9ms/step - loss: 51.4094 - val_loss: 51.6149\n",
      "Epoch 99/150\n",
      "273/273 [==============================] - 2s 8ms/step - loss: 50.5904 - val_loss: 50.8088\n",
      "Epoch 100/150\n",
      "273/273 [==============================] - 2s 7ms/step - loss: 50.4281 - val_loss: 51.6945\n",
      "Epoch 101/150\n",
      "273/273 [==============================] - 2s 8ms/step - loss: 49.7079 - val_loss: 50.7093\n",
      "Epoch 102/150\n",
      "273/273 [==============================] - 2s 8ms/step - loss: 49.9217 - val_loss: 50.0459\n",
      "Epoch 103/150\n",
      "273/273 [==============================] - 2s 9ms/step - loss: 50.5081 - val_loss: 50.9348\n",
      "Epoch 104/150\n",
      "273/273 [==============================] - 2s 8ms/step - loss: 49.2315 - val_loss: 49.2793\n",
      "Epoch 105/150\n",
      "273/273 [==============================] - 2s 7ms/step - loss: 49.1778 - val_loss: 51.4188\n",
      "Epoch 106/150\n",
      "273/273 [==============================] - 2s 8ms/step - loss: 52.6769 - val_loss: 54.0572\n",
      "Epoch 107/150\n",
      "273/273 [==============================] - 2s 8ms/step - loss: 51.5985 - val_loss: 51.1691\n",
      "Epoch 108/150\n",
      "273/273 [==============================] - 2s 7ms/step - loss: 51.2633 - val_loss: 53.0837\n",
      "Epoch 109/150\n",
      "273/273 [==============================] - 2s 7ms/step - loss: 51.2238 - val_loss: 54.1632\n",
      "Epoch 110/150\n",
      "273/273 [==============================] - 2s 7ms/step - loss: 51.3269 - val_loss: 53.0650\n",
      "Epoch 111/150\n",
      "273/273 [==============================] - 2s 7ms/step - loss: 51.5658 - val_loss: 51.6870\n",
      "Epoch 112/150\n",
      "273/273 [==============================] - 2s 8ms/step - loss: 51.0036 - val_loss: 50.9511\n",
      "Epoch 113/150\n",
      "273/273 [==============================] - 2s 7ms/step - loss: 49.1823 - val_loss: 51.2753\n",
      "Epoch 114/150\n",
      "273/273 [==============================] - 2s 7ms/step - loss: 49.1416 - val_loss: 50.9801\n",
      "Epoch 115/150\n",
      "273/273 [==============================] - 2s 7ms/step - loss: 48.9313 - val_loss: 50.1448\n",
      "Epoch 116/150\n",
      "273/273 [==============================] - 2s 7ms/step - loss: 49.3609 - val_loss: 50.6839\n",
      "Epoch 117/150\n",
      "273/273 [==============================] - 2s 7ms/step - loss: 48.6662 - val_loss: 49.3509\n",
      "Epoch 118/150\n",
      "273/273 [==============================] - 2s 8ms/step - loss: 50.4336 - val_loss: 55.4753\n",
      "Epoch 119/150\n",
      "273/273 [==============================] - 3s 9ms/step - loss: 52.4969 - val_loss: 53.9996\n",
      "Epoch 120/150\n",
      "273/273 [==============================] - 2s 8ms/step - loss: 51.8859 - val_loss: 51.3529\n",
      "Epoch 121/150\n",
      "273/273 [==============================] - 2s 7ms/step - loss: 49.7223 - val_loss: 49.9039\n",
      "Epoch 122/150\n",
      "273/273 [==============================] - 2s 9ms/step - loss: 48.2049 - val_loss: 49.4730\n",
      "Epoch 123/150\n",
      "273/273 [==============================] - 2s 8ms/step - loss: 47.3072 - val_loss: 48.0395\n",
      "Epoch 124/150\n",
      "273/273 [==============================] - 2s 7ms/step - loss: 47.3792 - val_loss: 47.9619\n",
      "Epoch 125/150\n",
      "273/273 [==============================] - 2s 7ms/step - loss: 47.5464 - val_loss: 47.6189\n",
      "Epoch 126/150\n",
      "273/273 [==============================] - 2s 8ms/step - loss: 48.3284 - val_loss: 48.6449\n",
      "Epoch 127/150\n",
      "273/273 [==============================] - 2s 7ms/step - loss: 47.8388 - val_loss: 48.4793\n",
      "Epoch 128/150\n",
      "273/273 [==============================] - 2s 8ms/step - loss: 48.0871 - val_loss: 50.1525\n",
      "Epoch 129/150\n",
      "273/273 [==============================] - 2s 8ms/step - loss: 48.8885 - val_loss: 53.7007\n",
      "Epoch 130/150\n",
      "273/273 [==============================] - 2s 7ms/step - loss: 49.6993 - val_loss: 48.3839\n",
      "Epoch 131/150\n",
      "273/273 [==============================] - 2s 7ms/step - loss: 48.3562 - val_loss: 47.9163\n",
      "Epoch 132/150\n",
      "273/273 [==============================] - 2s 8ms/step - loss: 48.5514 - val_loss: 49.0522\n",
      "Epoch 133/150\n",
      "273/273 [==============================] - 2s 8ms/step - loss: 47.7970 - val_loss: 48.3505\n",
      "Epoch 134/150\n",
      "273/273 [==============================] - 2s 8ms/step - loss: 46.6972 - val_loss: 47.6300\n",
      "Epoch 135/150\n",
      "273/273 [==============================] - 2s 9ms/step - loss: 46.7290 - val_loss: 47.2383\n",
      "Epoch 136/150\n",
      "273/273 [==============================] - 2s 7ms/step - loss: 46.3869 - val_loss: 48.7844\n",
      "Epoch 137/150\n",
      "273/273 [==============================] - 3s 9ms/step - loss: 54.8713 - val_loss: 53.4839\n",
      "Epoch 138/150\n",
      "273/273 [==============================] - 2s 7ms/step - loss: 50.7063 - val_loss: 50.1100\n",
      "Epoch 139/150\n",
      "273/273 [==============================] - 2s 7ms/step - loss: 50.4938 - val_loss: 55.8231\n",
      "Epoch 140/150\n",
      "273/273 [==============================] - 2s 7ms/step - loss: 51.9082 - val_loss: 51.6360\n",
      "Epoch 141/150\n",
      "273/273 [==============================] - 2s 7ms/step - loss: 49.4805 - val_loss: 50.4287\n",
      "Epoch 142/150\n",
      "273/273 [==============================] - 2s 7ms/step - loss: 48.5237 - val_loss: 48.7707\n",
      "Epoch 143/150\n",
      "273/273 [==============================] - 2s 8ms/step - loss: 51.0897 - val_loss: 58.2325\n",
      "Epoch 144/150\n",
      "273/273 [==============================] - 2s 7ms/step - loss: 55.8855 - val_loss: 55.7498\n",
      "Epoch 145/150\n",
      "273/273 [==============================] - 2s 7ms/step - loss: 54.2563 - val_loss: 54.6588\n",
      "Epoch 146/150\n",
      "273/273 [==============================] - 2s 7ms/step - loss: 53.5288 - val_loss: 54.0488\n",
      "Epoch 147/150\n",
      "273/273 [==============================] - 2s 7ms/step - loss: 53.2242 - val_loss: 53.3444\n",
      "Epoch 148/150\n",
      "273/273 [==============================] - 2s 8ms/step - loss: 52.0596 - val_loss: 52.6225\n",
      "Epoch 149/150\n",
      "273/273 [==============================] - 2s 7ms/step - loss: 51.4569 - val_loss: 52.0157\n",
      "Epoch 150/150\n",
      "273/273 [==============================] - 2s 9ms/step - loss: 51.3548 - val_loss: 51.9960\n"
     ]
    }
   ],
   "source": [
    "model.compile(optimizer='adam', loss='mae')\n",
    "history = model.fit(train_x, train_y, batch_size=128, epochs=150, validation_data=(test_x, test_y))"
   ]
  },
  {
   "cell_type": "code",
   "execution_count": 20,
   "metadata": {
    "execution": {
     "iopub.execute_input": "2020-10-12T09:04:10.707301Z",
     "iopub.status.busy": "2020-10-12T09:04:10.704166Z",
     "iopub.status.idle": "2020-10-12T09:04:10.955361Z",
     "shell.execute_reply": "2020-10-12T09:04:10.954790Z"
    },
    "papermill": {
     "duration": 2.919695,
     "end_time": "2020-10-12T09:04:10.955482",
     "exception": false,
     "start_time": "2020-10-12T09:04:08.035787",
     "status": "completed"
    },
    "tags": []
   },
   "outputs": [
    {
     "data": {
      "text/plain": [
       "[<matplotlib.lines.Line2D at 0x7fc8002e3990>]"
      ]
     },
     "execution_count": 20,
     "metadata": {},
     "output_type": "execute_result"
    },
    {
     "data": {
      "image/png": "[encoded data removed]",
      "text/plain": [
       "<Figure size 432x288 with 1 Axes>"
      ]
     },
     "metadata": {
      "needs_background": "light"
     },
     "output_type": "display_data"
    }
   ],
   "source": [
    "plt.plot(history.epoch, history.history['loss'], c='m')\n",
    "plt.plot(history.epoch, history.history['val_loss'], c='c')"
   ]
  },
  {
   "cell_type": "markdown",
   "metadata": {
    "papermill": {
     "duration": 2.50101,
     "end_time": "2020-10-12T09:04:15.627951",
     "exception": false,
     "start_time": "2020-10-12T09:04:13.126941",
     "status": "completed"
    },
    "tags": []
   },
   "source": [
    "## Build LSTM Model (Multi-Layer)\n",
    "Return the state info to feed back to the second LSTM layer\n",
    "\n",
    "Use callbacks to decrease learning rate"
   ]
  },
  {
   "cell_type": "code",
   "execution_count": 21,
   "metadata": {
    "execution": {
     "iopub.execute_input": "2020-10-12T09:04:20.241118Z",
     "iopub.status.busy": "2020-10-12T09:04:20.240160Z",
     "iopub.status.idle": "2020-10-12T09:04:20.953090Z",
     "shell.execute_reply": "2020-10-12T09:04:20.953605Z"
    },
    "papermill": {
     "duration": 2.937931,
     "end_time": "2020-10-12T09:04:20.953742",
     "exception": false,
     "start_time": "2020-10-12T09:04:18.015811",
     "status": "completed"
    },
    "tags": []
   },
   "outputs": [
    {
     "name": "stdout",
     "output_type": "stream",
     "text": [
      "Model: \"sequential_2\"\n",
      "_________________________________________________________________\n",
      "Layer (type)                 Output Shape              Param #   \n",
      "=================================================================\n",
      "lstm_1 (LSTM)                (None, 120, 32)           5632      \n",
      "_________________________________________________________________\n",
      "lstm_2 (LSTM)                (None, 120, 32)           8320      \n",
      "_________________________________________________________________\n",
      "lstm_3 (LSTM)                (None, 32)                8320      \n",
      "_________________________________________________________________\n",
      "dense_3 (Dense)              (None, 1)                 33        \n",
      "=================================================================\n",
      "Total params: 22,305\n",
      "Trainable params: 22,305\n",
      "Non-trainable params: 0\n",
      "_________________________________________________________________\n"
     ]
    }
   ],
   "source": [
    "model = keras.Sequential()\n",
    "model.add(layers.LSTM(32, input_shape=(120, 11), return_sequences=True)) \n",
    "model.add(layers.LSTM(32, return_sequences=True)) \n",
    "model.add(layers.LSTM(32)) \n",
    "model.add(layers.Dense(1))\n",
    "model.summary()"
   ]
  },
  {
   "cell_type": "code",
   "execution_count": 22,
   "metadata": {
    "execution": {
     "iopub.execute_input": "2020-10-12T09:04:25.572871Z",
     "iopub.status.busy": "2020-10-12T09:04:25.571109Z",
     "iopub.status.idle": "2020-10-12T09:04:25.573984Z",
     "shell.execute_reply": "2020-10-12T09:04:25.574696Z"
    },
    "papermill": {
     "duration": 2.180977,
     "end_time": "2020-10-12T09:04:25.574865",
     "exception": false,
     "start_time": "2020-10-12T09:04:23.393888",
     "status": "completed"
    },
    "tags": []
   },
   "outputs": [],
   "source": [
    "lr_reduced = keras.callbacks.ReduceLROnPlateau('val_loss', patience=3, factor=0.5, min_lr=0.00001)"
   ]
  },
  {
   "cell_type": "code",
   "execution_count": 23,
   "metadata": {
    "execution": {
     "iopub.execute_input": "2020-10-12T09:04:29.885227Z",
     "iopub.status.busy": "2020-10-12T09:04:29.884215Z",
     "iopub.status.idle": "2020-10-12T09:17:50.694669Z",
     "shell.execute_reply": "2020-10-12T09:17:50.695174Z"
    },
    "papermill": {
     "duration": 802.942568,
     "end_time": "2020-10-12T09:17:50.695313",
     "exception": false,
     "start_time": "2020-10-12T09:04:27.752745",
     "status": "completed"
    },
    "tags": []
   },
   "outputs": [
    {
     "name": "stdout",
     "output_type": "stream",
     "text": [
      "Epoch 1/150\n",
      "273/273 [==============================] - 6s 22ms/step - loss: 88.2528 - val_loss: 81.6525\n",
      "Epoch 2/150\n",
      "273/273 [==============================] - 5s 20ms/step - loss: 80.9136 - val_loss: 76.7034\n",
      "Epoch 3/150\n",
      "273/273 [==============================] - 5s 18ms/step - loss: 76.7315 - val_loss: 73.1330\n",
      "Epoch 4/150\n",
      "273/273 [==============================] - 5s 19ms/step - loss: 73.4562 - val_loss: 70.1019\n",
      "Epoch 5/150\n",
      "273/273 [==============================] - 5s 19ms/step - loss: 70.9368 - val_loss: 67.9677\n",
      "Epoch 6/150\n",
      "273/273 [==============================] - 6s 21ms/step - loss: 69.1322 - val_loss: 66.4841\n",
      "Epoch 7/150\n",
      "273/273 [==============================] - 5s 18ms/step - loss: 67.8715 - val_loss: 65.4718\n",
      "Epoch 8/150\n",
      "273/273 [==============================] - 6s 23ms/step - loss: 67.0046 - val_loss: 64.7755\n",
      "Epoch 9/150\n",
      "273/273 [==============================] - 5s 18ms/step - loss: 66.4133 - val_loss: 64.3161\n",
      "Epoch 10/150\n",
      "273/273 [==============================] - 5s 18ms/step - loss: 66.0312 - val_loss: 64.0348\n",
      "Epoch 11/150\n",
      "273/273 [==============================] - 5s 18ms/step - loss: 65.7951 - val_loss: 63.8754\n",
      "Epoch 12/150\n",
      "273/273 [==============================] - 6s 21ms/step - loss: 65.6591 - val_loss: 63.7992\n",
      "Epoch 13/150\n",
      "273/273 [==============================] - 5s 18ms/step - loss: 65.5908 - val_loss: 63.7662\n",
      "Epoch 14/150\n",
      "273/273 [==============================] - 5s 19ms/step - loss: 65.5636 - val_loss: 63.7591\n",
      "Epoch 15/150\n",
      "273/273 [==============================] - 5s 18ms/step - loss: 64.5146 - val_loss: 61.0182\n",
      "Epoch 16/150\n",
      "273/273 [==============================] - 5s 18ms/step - loss: 61.8133 - val_loss: 59.5713\n",
      "Epoch 17/150\n",
      "273/273 [==============================] - 5s 19ms/step - loss: 60.4123 - val_loss: 58.5455\n",
      "Epoch 18/150\n",
      "273/273 [==============================] - 5s 19ms/step - loss: 59.1909 - val_loss: 57.6682\n",
      "Epoch 19/150\n",
      "273/273 [==============================] - 6s 23ms/step - loss: 57.8527 - val_loss: 56.3959\n",
      "Epoch 20/150\n",
      "273/273 [==============================] - 6s 20ms/step - loss: 56.7134 - val_loss: 55.9092\n",
      "Epoch 21/150\n",
      "273/273 [==============================] - 5s 19ms/step - loss: 55.5624 - val_loss: 54.8261\n",
      "Epoch 22/150\n",
      "273/273 [==============================] - 5s 18ms/step - loss: 54.6280 - val_loss: 53.9530\n",
      "Epoch 23/150\n",
      "273/273 [==============================] - 5s 19ms/step - loss: 53.9293 - val_loss: 53.6668\n",
      "Epoch 24/150\n",
      "273/273 [==============================] - 5s 18ms/step - loss: 53.1327 - val_loss: 52.9700\n",
      "Epoch 25/150\n",
      "273/273 [==============================] - 6s 23ms/step - loss: 52.6710 - val_loss: 52.3266\n",
      "Epoch 26/150\n",
      "273/273 [==============================] - 5s 19ms/step - loss: 51.4697 - val_loss: 50.7863\n",
      "Epoch 27/150\n",
      "273/273 [==============================] - 5s 19ms/step - loss: 51.1893 - val_loss: 55.6387\n",
      "Epoch 28/150\n",
      "273/273 [==============================] - 5s 18ms/step - loss: 52.4252 - val_loss: 51.7788\n",
      "Epoch 29/150\n",
      "273/273 [==============================] - 5s 19ms/step - loss: 50.9868 - val_loss: 50.7322\n",
      "Epoch 30/150\n",
      "273/273 [==============================] - 5s 18ms/step - loss: 49.7479 - val_loss: 49.9631\n",
      "Epoch 31/150\n",
      "273/273 [==============================] - 5s 20ms/step - loss: 49.4995 - val_loss: 50.5875\n",
      "Epoch 32/150\n",
      "273/273 [==============================] - 7s 25ms/step - loss: 48.8870 - val_loss: 48.6022\n",
      "Epoch 33/150\n",
      "273/273 [==============================] - 5s 19ms/step - loss: 48.0830 - val_loss: 47.6739\n",
      "Epoch 34/150\n",
      "273/273 [==============================] - 5s 18ms/step - loss: 46.5950 - val_loss: 47.4826\n",
      "Epoch 35/150\n",
      "273/273 [==============================] - 5s 18ms/step - loss: 47.4835 - val_loss: 47.5868\n",
      "Epoch 36/150\n",
      "273/273 [==============================] - 5s 19ms/step - loss: 46.4182 - val_loss: 47.4259\n",
      "Epoch 37/150\n",
      "273/273 [==============================] - 5s 18ms/step - loss: 46.5958 - val_loss: 47.0697\n",
      "Epoch 38/150\n",
      "273/273 [==============================] - 6s 20ms/step - loss: 46.0276 - val_loss: 46.7094\n",
      "Epoch 39/150\n",
      "273/273 [==============================] - 6s 22ms/step - loss: 44.8476 - val_loss: 45.2192\n",
      "Epoch 40/150\n",
      "273/273 [==============================] - 5s 19ms/step - loss: 44.2201 - val_loss: 45.1181\n",
      "Epoch 41/150\n",
      "273/273 [==============================] - 5s 18ms/step - loss: 43.8757 - val_loss: 43.8410\n",
      "Epoch 42/150\n",
      "273/273 [==============================] - 6s 20ms/step - loss: 43.1741 - val_loss: 43.1468\n",
      "Epoch 43/150\n",
      "273/273 [==============================] - 5s 19ms/step - loss: 43.9363 - val_loss: 46.8289\n",
      "Epoch 44/150\n",
      "273/273 [==============================] - 5s 19ms/step - loss: 44.7755 - val_loss: 46.9109\n",
      "Epoch 45/150\n",
      "273/273 [==============================] - 6s 22ms/step - loss: 43.4643 - val_loss: 43.2657\n",
      "Epoch 46/150\n",
      "273/273 [==============================] - 6s 20ms/step - loss: 40.7100 - val_loss: 41.3093\n",
      "Epoch 47/150\n",
      "273/273 [==============================] - 5s 18ms/step - loss: 39.9987 - val_loss: 40.4684\n",
      "Epoch 48/150\n",
      "273/273 [==============================] - 5s 19ms/step - loss: 39.2337 - val_loss: 40.0073\n",
      "Epoch 49/150\n",
      "273/273 [==============================] - 5s 18ms/step - loss: 38.9397 - val_loss: 40.0007\n",
      "Epoch 50/150\n",
      "273/273 [==============================] - 5s 19ms/step - loss: 38.7489 - val_loss: 39.4988\n",
      "Epoch 51/150\n",
      "273/273 [==============================] - 5s 19ms/step - loss: 37.9528 - val_loss: 38.6769\n",
      "Epoch 52/150\n",
      "273/273 [==============================] - 6s 23ms/step - loss: 38.0193 - val_loss: 38.1988\n",
      "Epoch 53/150\n",
      "273/273 [==============================] - 5s 20ms/step - loss: 37.5639 - val_loss: 39.6371\n",
      "Epoch 54/150\n",
      "273/273 [==============================] - 6s 20ms/step - loss: 37.3812 - val_loss: 38.7171\n",
      "Epoch 55/150\n",
      "273/273 [==============================] - 5s 18ms/step - loss: 36.6724 - val_loss: 37.2517\n",
      "Epoch 56/150\n",
      "273/273 [==============================] - 5s 19ms/step - loss: 39.1474 - val_loss: 38.3506\n",
      "Epoch 57/150\n",
      "273/273 [==============================] - 5s 19ms/step - loss: 36.6772 - val_loss: 37.0579\n",
      "Epoch 58/150\n",
      "273/273 [==============================] - 5s 19ms/step - loss: 36.3159 - val_loss: 36.8716\n",
      "Epoch 59/150\n",
      "273/273 [==============================] - 6s 22ms/step - loss: 36.6990 - val_loss: 37.1232\n",
      "Epoch 60/150\n",
      "273/273 [==============================] - 5s 19ms/step - loss: 35.7017 - val_loss: 36.4213\n",
      "Epoch 61/150\n",
      "273/273 [==============================] - 5s 18ms/step - loss: 35.7840 - val_loss: 36.3661\n",
      "Epoch 62/150\n",
      "273/273 [==============================] - 5s 20ms/step - loss: 35.3206 - val_loss: 36.0925\n",
      "Epoch 63/150\n",
      "273/273 [==============================] - 5s 20ms/step - loss: 34.9007 - val_loss: 36.8292\n",
      "Epoch 64/150\n",
      "273/273 [==============================] - 6s 20ms/step - loss: 34.4988 - val_loss: 35.7096\n",
      "Epoch 65/150\n",
      "273/273 [==============================] - 6s 21ms/step - loss: 35.4799 - val_loss: 37.7301\n",
      "Epoch 66/150\n",
      "273/273 [==============================] - 6s 22ms/step - loss: 35.1013 - val_loss: 35.8152\n",
      "Epoch 67/150\n",
      "273/273 [==============================] - 5s 18ms/step - loss: 37.2346 - val_loss: 39.0470\n",
      "Epoch 68/150\n",
      "273/273 [==============================] - 5s 19ms/step - loss: 35.6958 - val_loss: 35.4649\n",
      "Epoch 69/150\n",
      "273/273 [==============================] - 5s 19ms/step - loss: 33.7093 - val_loss: 34.7942\n",
      "Epoch 70/150\n",
      "273/273 [==============================] - 5s 18ms/step - loss: 32.9287 - val_loss: 34.0720\n",
      "Epoch 71/150\n",
      "273/273 [==============================] - 5s 18ms/step - loss: 32.5628 - val_loss: 34.1173\n",
      "Epoch 72/150\n",
      "273/273 [==============================] - 5s 20ms/step - loss: 32.9265 - val_loss: 33.9596\n",
      "Epoch 73/150\n",
      "273/273 [==============================] - 6s 22ms/step - loss: 32.0773 - val_loss: 34.0168\n",
      "Epoch 74/150\n",
      "273/273 [==============================] - 5s 18ms/step - loss: 31.8080 - val_loss: 33.3241\n",
      "Epoch 75/150\n",
      "273/273 [==============================] - 6s 21ms/step - loss: 31.5316 - val_loss: 33.3223\n",
      "Epoch 76/150\n",
      "273/273 [==============================] - 5s 19ms/step - loss: 32.0154 - val_loss: 33.5945\n",
      "Epoch 77/150\n",
      "273/273 [==============================] - 5s 19ms/step - loss: 31.6283 - val_loss: 34.3977\n",
      "Epoch 78/150\n",
      "273/273 [==============================] - 5s 18ms/step - loss: 31.8033 - val_loss: 35.0574\n",
      "Epoch 79/150\n",
      "273/273 [==============================] - 6s 21ms/step - loss: 31.6940 - val_loss: 32.8618\n",
      "Epoch 80/150\n",
      "273/273 [==============================] - 6s 22ms/step - loss: 30.6994 - val_loss: 32.6047\n",
      "Epoch 81/150\n",
      "273/273 [==============================] - 5s 19ms/step - loss: 30.4339 - val_loss: 32.3566\n",
      "Epoch 82/150\n",
      "273/273 [==============================] - 5s 18ms/step - loss: 30.4854 - val_loss: 32.3902\n",
      "Epoch 83/150\n",
      "273/273 [==============================] - 5s 19ms/step - loss: 30.3356 - val_loss: 32.1682\n",
      "Epoch 84/150\n",
      "273/273 [==============================] - 5s 18ms/step - loss: 30.2564 - val_loss: 32.1787\n",
      "Epoch 85/150\n",
      "273/273 [==============================] - 5s 19ms/step - loss: 30.4371 - val_loss: 33.4493\n",
      "Epoch 86/150\n",
      "273/273 [==============================] - 6s 21ms/step - loss: 30.8949 - val_loss: 32.8530\n",
      "Epoch 87/150\n",
      "273/273 [==============================] - 7s 27ms/step - loss: 30.2678 - val_loss: 32.2415\n",
      "Epoch 88/150\n",
      "273/273 [==============================] - 5s 18ms/step - loss: 29.9853 - val_loss: 32.1578\n",
      "Epoch 89/150\n",
      "273/273 [==============================] - 5s 19ms/step - loss: 29.8515 - val_loss: 32.0225\n",
      "Epoch 90/150\n",
      "273/273 [==============================] - 5s 18ms/step - loss: 29.7284 - val_loss: 31.9198\n",
      "Epoch 91/150\n",
      "273/273 [==============================] - 5s 19ms/step - loss: 29.6751 - val_loss: 31.9450\n",
      "Epoch 92/150\n",
      "273/273 [==============================] - 5s 18ms/step - loss: 29.6181 - val_loss: 31.7702\n",
      "Epoch 93/150\n",
      "273/273 [==============================] - 5s 20ms/step - loss: 29.4828 - val_loss: 31.7294\n",
      "Epoch 94/150\n",
      "273/273 [==============================] - 5s 18ms/step - loss: 29.4336 - val_loss: 31.6947\n",
      "Epoch 95/150\n",
      "273/273 [==============================] - 5s 19ms/step - loss: 29.4373 - val_loss: 31.7587\n",
      "Epoch 96/150\n",
      "273/273 [==============================] - 5s 18ms/step - loss: 29.3734 - val_loss: 31.6221\n",
      "Epoch 97/150\n",
      "273/273 [==============================] - 5s 18ms/step - loss: 29.2649 - val_loss: 31.6627\n",
      "Epoch 98/150\n",
      "273/273 [==============================] - 6s 21ms/step - loss: 29.1998 - val_loss: 31.6484\n",
      "Epoch 99/150\n",
      "273/273 [==============================] - 7s 25ms/step - loss: 29.1845 - val_loss: 31.5274\n",
      "Epoch 100/150\n",
      "273/273 [==============================] - 6s 21ms/step - loss: 29.1042 - val_loss: 31.3633\n",
      "Epoch 101/150\n",
      "273/273 [==============================] - 5s 19ms/step - loss: 29.1086 - val_loss: 31.3785\n",
      "Epoch 102/150\n",
      "273/273 [==============================] - 5s 18ms/step - loss: 29.5265 - val_loss: 31.6559\n",
      "Epoch 103/150\n",
      "273/273 [==============================] - 5s 18ms/step - loss: 29.3210 - val_loss: 31.4392\n",
      "Epoch 104/150\n",
      "273/273 [==============================] - 5s 19ms/step - loss: 29.0132 - val_loss: 31.3388\n",
      "Epoch 105/150\n",
      "273/273 [==============================] - 5s 19ms/step - loss: 28.9011 - val_loss: 31.3046\n",
      "Epoch 106/150\n",
      "273/273 [==============================] - 5s 18ms/step - loss: 28.8539 - val_loss: 31.2414\n",
      "Epoch 107/150\n",
      "273/273 [==============================] - 5s 18ms/step - loss: 28.8090 - val_loss: 31.2271\n",
      "Epoch 108/150\n",
      "273/273 [==============================] - 5s 19ms/step - loss: 28.7592 - val_loss: 31.2227\n",
      "Epoch 109/150\n",
      "273/273 [==============================] - 5s 19ms/step - loss: 28.7277 - val_loss: 31.1809\n",
      "Epoch 110/150\n",
      "273/273 [==============================] - 5s 20ms/step - loss: 28.6973 - val_loss: 31.1073\n",
      "Epoch 111/150\n",
      "273/273 [==============================] - 5s 20ms/step - loss: 28.7143 - val_loss: 31.1392\n",
      "Epoch 112/150\n",
      "273/273 [==============================] - 6s 22ms/step - loss: 28.6362 - val_loss: 31.1422\n",
      "Epoch 113/150\n",
      "273/273 [==============================] - 6s 21ms/step - loss: 28.6198 - val_loss: 31.1696\n",
      "Epoch 114/150\n",
      "273/273 [==============================] - 5s 19ms/step - loss: 28.5554 - val_loss: 31.0704\n",
      "Epoch 115/150\n",
      "273/273 [==============================] - 5s 18ms/step - loss: 28.4926 - val_loss: 31.0510\n",
      "Epoch 116/150\n",
      "273/273 [==============================] - 5s 19ms/step - loss: 28.5511 - val_loss: 31.0727\n",
      "Epoch 117/150\n",
      "273/273 [==============================] - 5s 19ms/step - loss: 28.5109 - val_loss: 31.0470\n",
      "Epoch 118/150\n",
      "273/273 [==============================] - 5s 19ms/step - loss: 28.4736 - val_loss: 31.0566\n",
      "Epoch 119/150\n",
      "273/273 [==============================] - 5s 18ms/step - loss: 28.4601 - val_loss: 31.0317\n",
      "Epoch 120/150\n",
      "273/273 [==============================] - 5s 20ms/step - loss: 28.4392 - val_loss: 31.0126\n",
      "Epoch 121/150\n",
      "273/273 [==============================] - 6s 20ms/step - loss: 28.4260 - val_loss: 31.0043\n",
      "Epoch 122/150\n",
      "273/273 [==============================] - 5s 20ms/step - loss: 28.4262 - val_loss: 30.9779\n",
      "Epoch 123/150\n",
      "273/273 [==============================] - 5s 19ms/step - loss: 28.4033 - val_loss: 30.9875\n",
      "Epoch 124/150\n",
      "273/273 [==============================] - 5s 19ms/step - loss: 28.3774 - val_loss: 30.9812\n",
      "Epoch 125/150\n",
      "273/273 [==============================] - 6s 21ms/step - loss: 28.3736 - val_loss: 30.9729\n",
      "Epoch 126/150\n",
      "273/273 [==============================] - 6s 23ms/step - loss: 28.3561 - val_loss: 30.9663\n",
      "Epoch 127/150\n",
      "273/273 [==============================] - 5s 18ms/step - loss: 28.3573 - val_loss: 30.9355\n",
      "Epoch 128/150\n",
      "273/273 [==============================] - 5s 19ms/step - loss: 28.3295 - val_loss: 30.9400\n",
      "Epoch 129/150\n",
      "273/273 [==============================] - 5s 19ms/step - loss: 28.3234 - val_loss: 30.9544\n",
      "Epoch 130/150\n",
      "273/273 [==============================] - 5s 19ms/step - loss: 28.3224 - val_loss: 30.8994\n",
      "Epoch 131/150\n",
      "273/273 [==============================] - 5s 18ms/step - loss: 28.3065 - val_loss: 30.9010\n",
      "Epoch 132/150\n",
      "273/273 [==============================] - 5s 20ms/step - loss: 28.2947 - val_loss: 30.9167\n",
      "Epoch 133/150\n",
      "273/273 [==============================] - 5s 19ms/step - loss: 28.2788 - val_loss: 30.9068\n",
      "Epoch 134/150\n",
      "273/273 [==============================] - 5s 18ms/step - loss: 28.2426 - val_loss: 30.8979\n",
      "Epoch 135/150\n",
      "273/273 [==============================] - 5s 19ms/step - loss: 28.2341 - val_loss: 30.9104\n",
      "Epoch 136/150\n",
      "273/273 [==============================] - 5s 19ms/step - loss: 28.2720 - val_loss: 30.8756\n",
      "Epoch 137/150\n",
      "273/273 [==============================] - 5s 19ms/step - loss: 28.2156 - val_loss: 30.8557\n",
      "Epoch 138/150\n",
      "273/273 [==============================] - 6s 20ms/step - loss: 28.2040 - val_loss: 30.8838\n",
      "Epoch 139/150\n",
      "273/273 [==============================] - 6s 24ms/step - loss: 28.1960 - val_loss: 30.8537\n",
      "Epoch 140/150\n",
      "273/273 [==============================] - 5s 18ms/step - loss: 28.1834 - val_loss: 30.8657\n",
      "Epoch 141/150\n",
      "273/273 [==============================] - 5s 20ms/step - loss: 28.1831 - val_loss: 30.8692\n",
      "Epoch 142/150\n",
      "273/273 [==============================] - 5s 18ms/step - loss: 28.1935 - val_loss: 30.8609\n",
      "Epoch 143/150\n",
      "273/273 [==============================] - 5s 20ms/step - loss: 28.1796 - val_loss: 30.8590\n",
      "Epoch 144/150\n",
      "273/273 [==============================] - 5s 18ms/step - loss: 28.1774 - val_loss: 30.8573\n",
      "Epoch 145/150\n",
      "273/273 [==============================] - 5s 19ms/step - loss: 28.1576 - val_loss: 30.8444\n",
      "Epoch 146/150\n",
      "273/273 [==============================] - 5s 18ms/step - loss: 28.1463 - val_loss: 30.8316\n",
      "Epoch 147/150\n",
      "273/273 [==============================] - 5s 19ms/step - loss: 28.1427 - val_loss: 30.8274\n",
      "Epoch 148/150\n",
      "273/273 [==============================] - 5s 19ms/step - loss: 28.1310 - val_loss: 30.8153\n",
      "Epoch 149/150\n",
      "273/273 [==============================] - 5s 19ms/step - loss: 28.1410 - val_loss: 30.8112\n",
      "Epoch 150/150\n",
      "273/273 [==============================] - 5s 18ms/step - loss: 28.1778 - val_loss: 30.9366\n"
     ]
    }
   ],
   "source": [
    "model.compile(optimizer='adam', loss='mae')\n",
    "history = model.fit(train_x, train_y, batch_size=128, epochs=150, validation_data=(test_x, test_y), callbacks=[lr_reduced])"
   ]
  },
  {
   "cell_type": "code",
   "execution_count": 24,
   "metadata": {
    "execution": {
     "iopub.execute_input": "2020-10-12T09:18:03.210824Z",
     "iopub.status.busy": "2020-10-12T09:18:03.209947Z",
     "iopub.status.idle": "2020-10-12T09:18:03.359008Z",
     "shell.execute_reply": "2020-10-12T09:18:03.359507Z"
    },
    "papermill": {
     "duration": 6.318231,
     "end_time": "2020-10-12T09:18:03.359638",
     "exception": false,
     "start_time": "2020-10-12T09:17:57.041407",
     "status": "completed"
    },
    "tags": []
   },
   "outputs": [
    {
     "data": {
      "text/plain": [
       "[<matplotlib.lines.Line2D at 0x7fc3aca7ed90>]"
      ]
     },
     "execution_count": 24,
     "metadata": {},
     "output_type": "execute_result"
    },
    {
     "data": {
      "image/png": "[encoded data removed]",
      "text/plain": [
       "<Figure size 432x288 with 1 Axes>"
      ]
     },
     "metadata": {
      "needs_background": "light"
     },
     "output_type": "display_data"
    }
   ],
   "source": [
    "plt.plot(history.epoch, history.history['loss'], c='m')\n",
    "plt.plot(history.epoch, history.history['val_loss'], c='c')"
   ]
  },
  {
   "cell_type": "markdown",
   "metadata": {
    "papermill": {
     "duration": 6.579514,
     "end_time": "2020-10-12T09:18:16.767297",
     "exception": false,
     "start_time": "2020-10-12T09:18:10.187783",
     "status": "completed"
    },
    "tags": []
   },
   "source": [
    "## Evaluation & Prediction"
   ]
  },
  {
   "cell_type": "code",
   "execution_count": 25,
   "metadata": {
    "execution": {
     "iopub.execute_input": "2020-10-12T09:18:29.645297Z",
     "iopub.status.busy": "2020-10-12T09:18:29.644185Z",
     "iopub.status.idle": "2020-10-12T09:18:31.373779Z",
     "shell.execute_reply": "2020-10-12T09:18:31.374277Z"
    },
    "papermill": {
     "duration": 8.043798,
     "end_time": "2020-10-12T09:18:31.374446",
     "exception": false,
     "start_time": "2020-10-12T09:18:23.330648",
     "status": "completed"
    },
    "tags": []
   },
   "outputs": [
    {
     "data": {
      "text/plain": [
       "30.936580657958984"
      ]
     },
     "execution_count": 25,
     "metadata": {},
     "output_type": "execute_result"
    }
   ],
   "source": [
    "model.evaluate(test_x, test_y, verbose=0)"
   ]
  },
  {
   "cell_type": "code",
   "execution_count": 26,
   "metadata": {
    "execution": {
     "iopub.execute_input": "2020-10-12T09:18:44.197170Z",
     "iopub.status.busy": "2020-10-12T09:18:44.196079Z",
     "iopub.status.idle": "2020-10-12T09:18:46.666784Z",
     "shell.execute_reply": "2020-10-12T09:18:46.666204Z"
    },
    "papermill": {
     "duration": 9.200083,
     "end_time": "2020-10-12T09:18:46.666900",
     "exception": false,
     "start_time": "2020-10-12T09:18:37.466817",
     "status": "completed"
    },
    "tags": []
   },
   "outputs": [
    {
     "data": {
      "text/plain": [
       "((8732, 120, 11), (8732, 1))"
      ]
     },
     "execution_count": 26,
     "metadata": {},
     "output_type": "execute_result"
    }
   ],
   "source": [
    "test_predict = model.predict(test_x)\n",
    "test_x.shape, test_predict.shape"
   ]
  },
  {
   "cell_type": "code",
   "execution_count": 27,
   "metadata": {
    "execution": {
     "iopub.execute_input": "2020-10-12T09:18:59.020431Z",
     "iopub.status.busy": "2020-10-12T09:18:59.019708Z",
     "iopub.status.idle": "2020-10-12T09:18:59.024185Z",
     "shell.execute_reply": "2020-10-12T09:18:59.023632Z"
    },
    "papermill": {
     "duration": 6.057214,
     "end_time": "2020-10-12T09:18:59.024286",
     "exception": false,
     "start_time": "2020-10-12T09:18:52.967072",
     "status": "completed"
    },
    "tags": []
   },
   "outputs": [
    {
     "data": {
      "text/plain": [
       "array([[198.89764 ],\n",
       "       [ 28.539043],\n",
       "       [244.49496 ],\n",
       "       [241.20007 ],\n",
       "       [ 89.95556 ]], dtype=float32)"
      ]
     },
     "execution_count": 27,
     "metadata": {},
     "output_type": "execute_result"
    }
   ],
   "source": [
    "test_predict[:5]"
   ]
  },
  {
   "cell_type": "code",
   "execution_count": 28,
   "metadata": {
    "execution": {
     "iopub.execute_input": "2020-10-12T09:19:11.525787Z",
     "iopub.status.busy": "2020-10-12T09:19:11.516125Z",
     "iopub.status.idle": "2020-10-12T09:19:11.529612Z",
     "shell.execute_reply": "2020-10-12T09:19:11.530238Z"
    },
    "papermill": {
     "duration": 6.185395,
     "end_time": "2020-10-12T09:19:11.530390",
     "exception": false,
     "start_time": "2020-10-12T09:19:05.344995",
     "status": "completed"
    },
    "tags": []
   },
   "outputs": [
    {
     "data": {
      "text/html": [
       "<div>\n",
       "<style scoped>\n",
       "    .dataframe tbody tr th:only-of-type {\n",
       "        vertical-align: middle;\n",
       "    }\n",
       "\n",
       "    .dataframe tbody tr th {\n",
       "        vertical-align: top;\n",
       "    }\n",
       "\n",
       "    .dataframe thead th {\n",
       "        text-align: right;\n",
       "    }\n",
       "</style>\n",
       "<table border=\"1\" class=\"dataframe\">\n",
       "  <thead>\n",
       "    <tr style=\"text-align: right;\">\n",
       "      <th></th>\n",
       "      <th>pm2.5</th>\n",
       "      <th>DEWP</th>\n",
       "      <th>TEMP</th>\n",
       "      <th>PRES</th>\n",
       "      <th>Iws</th>\n",
       "      <th>Is</th>\n",
       "      <th>Ir</th>\n",
       "      <th>NE</th>\n",
       "      <th>NW</th>\n",
       "      <th>SE</th>\n",
       "      <th>cv</th>\n",
       "    </tr>\n",
       "    <tr>\n",
       "      <th>time</th>\n",
       "      <th></th>\n",
       "      <th></th>\n",
       "      <th></th>\n",
       "      <th></th>\n",
       "      <th></th>\n",
       "      <th></th>\n",
       "      <th></th>\n",
       "      <th></th>\n",
       "      <th></th>\n",
       "      <th></th>\n",
       "      <th></th>\n",
       "    </tr>\n",
       "  </thead>\n",
       "  <tbody>\n",
       "    <tr>\n",
       "      <th>2014-12-27 00:00:00</th>\n",
       "      <td>0.713524</td>\n",
       "      <td>-0.822246</td>\n",
       "      <td>-1.430934</td>\n",
       "      <td>1.321080</td>\n",
       "      <td>-0.442079</td>\n",
       "      <td>-0.070268</td>\n",
       "      <td>-0.138822</td>\n",
       "      <td>-0.358941</td>\n",
       "      <td>1.446370</td>\n",
       "      <td>-0.731151</td>\n",
       "      <td>-0.521935</td>\n",
       "    </tr>\n",
       "    <tr>\n",
       "      <th>2014-12-27 01:00:00</th>\n",
       "      <td>1.054271</td>\n",
       "      <td>-0.822400</td>\n",
       "      <td>-1.431359</td>\n",
       "      <td>1.320566</td>\n",
       "      <td>-0.405952</td>\n",
       "      <td>-0.070224</td>\n",
       "      <td>-0.139121</td>\n",
       "      <td>-0.358229</td>\n",
       "      <td>1.441558</td>\n",
       "      <td>-0.728662</td>\n",
       "      <td>-0.522690</td>\n",
       "    </tr>\n",
       "    <tr>\n",
       "      <th>2014-12-27 02:00:00</th>\n",
       "      <td>0.978673</td>\n",
       "      <td>-0.822067</td>\n",
       "      <td>-1.430926</td>\n",
       "      <td>1.320543</td>\n",
       "      <td>-0.370990</td>\n",
       "      <td>-0.070157</td>\n",
       "      <td>-0.138782</td>\n",
       "      <td>-0.360362</td>\n",
       "      <td>1.446087</td>\n",
       "      <td>-0.729952</td>\n",
       "      <td>-0.521713</td>\n",
       "    </tr>\n",
       "    <tr>\n",
       "      <th>2014-12-27 03:00:00</th>\n",
       "      <td>1.297398</td>\n",
       "      <td>-0.891797</td>\n",
       "      <td>-1.512640</td>\n",
       "      <td>1.320438</td>\n",
       "      <td>-0.334711</td>\n",
       "      <td>-0.070439</td>\n",
       "      <td>-0.138617</td>\n",
       "      <td>-0.357465</td>\n",
       "      <td>1.441840</td>\n",
       "      <td>-0.730136</td>\n",
       "      <td>-0.522068</td>\n",
       "    </tr>\n",
       "    <tr>\n",
       "      <th>2014-12-27 04:00:00</th>\n",
       "      <td>1.399654</td>\n",
       "      <td>-0.891403</td>\n",
       "      <td>-1.513229</td>\n",
       "      <td>1.320578</td>\n",
       "      <td>-0.298866</td>\n",
       "      <td>-0.070623</td>\n",
       "      <td>-0.138280</td>\n",
       "      <td>-0.357618</td>\n",
       "      <td>1.443253</td>\n",
       "      <td>-0.729583</td>\n",
       "      <td>-0.523134</td>\n",
       "    </tr>\n",
       "    <tr>\n",
       "      <th>...</th>\n",
       "      <td>...</td>\n",
       "      <td>...</td>\n",
       "      <td>...</td>\n",
       "      <td>...</td>\n",
       "      <td>...</td>\n",
       "      <td>...</td>\n",
       "      <td>...</td>\n",
       "      <td>...</td>\n",
       "      <td>...</td>\n",
       "      <td>...</td>\n",
       "      <td>...</td>\n",
       "    </tr>\n",
       "    <tr>\n",
       "      <th>2014-12-31 19:00:00</th>\n",
       "      <td>-0.983081</td>\n",
       "      <td>-1.725566</td>\n",
       "      <td>-1.190462</td>\n",
       "      <td>1.710678</td>\n",
       "      <td>4.168464</td>\n",
       "      <td>-0.069012</td>\n",
       "      <td>-0.137181</td>\n",
       "      <td>-0.358127</td>\n",
       "      <td>1.447981</td>\n",
       "      <td>-0.730874</td>\n",
       "      <td>-0.523666</td>\n",
       "    </tr>\n",
       "    <tr>\n",
       "      <th>2014-12-31 20:00:00</th>\n",
       "      <td>-0.961436</td>\n",
       "      <td>-1.656596</td>\n",
       "      <td>-1.272333</td>\n",
       "      <td>1.711026</td>\n",
       "      <td>4.273864</td>\n",
       "      <td>-0.068723</td>\n",
       "      <td>-0.137229</td>\n",
       "      <td>-0.358330</td>\n",
       "      <td>1.449689</td>\n",
       "      <td>-0.732350</td>\n",
       "      <td>-0.522867</td>\n",
       "    </tr>\n",
       "    <tr>\n",
       "      <th>2014-12-31 21:00:00</th>\n",
       "      <td>-0.962722</td>\n",
       "      <td>-1.657413</td>\n",
       "      <td>-1.272223</td>\n",
       "      <td>1.710975</td>\n",
       "      <td>4.384778</td>\n",
       "      <td>-0.068988</td>\n",
       "      <td>-0.137587</td>\n",
       "      <td>-0.357669</td>\n",
       "      <td>1.451115</td>\n",
       "      <td>-0.730229</td>\n",
       "      <td>-0.526151</td>\n",
       "    </tr>\n",
       "    <tr>\n",
       "      <th>2014-12-31 22:00:00</th>\n",
       "      <td>-0.985238</td>\n",
       "      <td>-1.657373</td>\n",
       "      <td>-1.354065</td>\n",
       "      <td>1.711157</td>\n",
       "      <td>4.466841</td>\n",
       "      <td>-0.068432</td>\n",
       "      <td>-0.137317</td>\n",
       "      <td>-0.357872</td>\n",
       "      <td>1.447602</td>\n",
       "      <td>-0.728018</td>\n",
       "      <td>-0.526462</td>\n",
       "    </tr>\n",
       "    <tr>\n",
       "      <th>2014-12-31 23:00:00</th>\n",
       "      <td>-0.941949</td>\n",
       "      <td>-1.588171</td>\n",
       "      <td>-1.271759</td>\n",
       "      <td>1.710985</td>\n",
       "      <td>4.529390</td>\n",
       "      <td>-0.068864</td>\n",
       "      <td>-0.137175</td>\n",
       "      <td>-0.358890</td>\n",
       "      <td>1.447507</td>\n",
       "      <td>-0.729906</td>\n",
       "      <td>-0.523711</td>\n",
       "    </tr>\n",
       "  </tbody>\n",
       "</table>\n",
       "<p>120 rows × 11 columns</p>\n",
       "</div>"
      ],
      "text/plain": [
       "                        pm2.5      DEWP      TEMP      PRES       Iws  \\\n",
       "time                                                                    \n",
       "2014-12-27 00:00:00  0.713524 -0.822246 -1.430934  1.321080 -0.442079   \n",
       "2014-12-27 01:00:00  1.054271 -0.822400 -1.431359  1.320566 -0.405952   \n",
       "2014-12-27 02:00:00  0.978673 -0.822067 -1.430926  1.320543 -0.370990   \n",
       "2014-12-27 03:00:00  1.297398 -0.891797 -1.512640  1.320438 -0.334711   \n",
       "2014-12-27 04:00:00  1.399654 -0.891403 -1.513229  1.320578 -0.298866   \n",
       "...                       ...       ...       ...       ...       ...   \n",
       "2014-12-31 19:00:00 -0.983081 -1.725566 -1.190462  1.710678  4.168464   \n",
       "2014-12-31 20:00:00 -0.961436 -1.656596 -1.272333  1.711026  4.273864   \n",
       "2014-12-31 21:00:00 -0.962722 -1.657413 -1.272223  1.710975  4.384778   \n",
       "2014-12-31 22:00:00 -0.985238 -1.657373 -1.354065  1.711157  4.466841   \n",
       "2014-12-31 23:00:00 -0.941949 -1.588171 -1.271759  1.710985  4.529390   \n",
       "\n",
       "                           Is        Ir        NE        NW        SE  \\\n",
       "time                                                                    \n",
       "2014-12-27 00:00:00 -0.070268 -0.138822 -0.358941  1.446370 -0.731151   \n",
       "2014-12-27 01:00:00 -0.070224 -0.139121 -0.358229  1.441558 -0.728662   \n",
       "2014-12-27 02:00:00 -0.070157 -0.138782 -0.360362  1.446087 -0.729952   \n",
       "2014-12-27 03:00:00 -0.070439 -0.138617 -0.357465  1.441840 -0.730136   \n",
       "2014-12-27 04:00:00 -0.070623 -0.138280 -0.357618  1.443253 -0.729583   \n",
       "...                       ...       ...       ...       ...       ...   \n",
       "2014-12-31 19:00:00 -0.069012 -0.137181 -0.358127  1.447981 -0.730874   \n",
       "2014-12-31 20:00:00 -0.068723 -0.137229 -0.358330  1.449689 -0.732350   \n",
       "2014-12-31 21:00:00 -0.068988 -0.137587 -0.357669  1.451115 -0.730229   \n",
       "2014-12-31 22:00:00 -0.068432 -0.137317 -0.357872  1.447602 -0.728018   \n",
       "2014-12-31 23:00:00 -0.068864 -0.137175 -0.358890  1.447507 -0.729906   \n",
       "\n",
       "                           cv  \n",
       "time                           \n",
       "2014-12-27 00:00:00 -0.521935  \n",
       "2014-12-27 01:00:00 -0.522690  \n",
       "2014-12-27 02:00:00 -0.521713  \n",
       "2014-12-27 03:00:00 -0.522068  \n",
       "2014-12-27 04:00:00 -0.523134  \n",
       "...                       ...  \n",
       "2014-12-31 19:00:00 -0.523666  \n",
       "2014-12-31 20:00:00 -0.522867  \n",
       "2014-12-31 21:00:00 -0.526151  \n",
       "2014-12-31 22:00:00 -0.526462  \n",
       "2014-12-31 23:00:00 -0.523711  \n",
       "\n",
       "[120 rows x 11 columns]"
      ]
     },
     "execution_count": 28,
     "metadata": {},
     "output_type": "execute_result"
    }
   ],
   "source": [
    "test_data = df[-120:]\n",
    "test_data = (test_data - mean)/std\n",
    "test_data"
   ]
  },
  {
   "cell_type": "code",
   "execution_count": 29,
   "metadata": {
    "execution": {
     "iopub.execute_input": "2020-10-12T09:19:25.467328Z",
     "iopub.status.busy": "2020-10-12T09:19:25.466733Z",
     "iopub.status.idle": "2020-10-12T09:19:25.472250Z",
     "shell.execute_reply": "2020-10-12T09:19:25.471768Z"
    },
    "papermill": {
     "duration": 6.483031,
     "end_time": "2020-10-12T09:19:25.472370",
     "exception": false,
     "start_time": "2020-10-12T09:19:18.989339",
     "status": "completed"
    },
    "tags": []
   },
   "outputs": [
    {
     "data": {
      "text/plain": [
       "(1, 120, 11)"
      ]
     },
     "execution_count": 29,
     "metadata": {},
     "output_type": "execute_result"
    }
   ],
   "source": [
    "test_data = np.expand_dims(test_data, axis=0)\n",
    "test_data.shape"
   ]
  },
  {
   "cell_type": "code",
   "execution_count": 30,
   "metadata": {
    "execution": {
     "iopub.execute_input": "2020-10-12T09:19:38.043378Z",
     "iopub.status.busy": "2020-10-12T09:19:38.042497Z",
     "iopub.status.idle": "2020-10-12T09:19:38.091167Z",
     "shell.execute_reply": "2020-10-12T09:19:38.092156Z"
    },
    "papermill": {
     "duration": 6.416479,
     "end_time": "2020-10-12T09:19:38.092292",
     "exception": false,
     "start_time": "2020-10-12T09:19:31.675813",
     "status": "completed"
    },
    "tags": []
   },
   "outputs": [
    {
     "data": {
      "text/plain": [
       "array([[19.552254]], dtype=float32)"
      ]
     },
     "execution_count": 30,
     "metadata": {},
     "output_type": "execute_result"
    }
   ],
   "source": [
    "model.predict(test_data) # 2015.1.1 11pm pM2.5"
   ]
  }
 ],
 "metadata": {
  "kernelspec": {
   "display_name": "Python 3",
   "language": "python",
   "name": "python3"
  },
  "language_info": {
   "codemirror_mode": {
    "name": "ipython",
    "version": 3
   },
   "file_extension": ".py",
   "mimetype": "text/x-python",
   "name": "python",
   "nbconvert_exporter": "python",
   "pygments_lexer": "ipython3",
   "version": "3.8.8"
  },
  "papermill": {
   "duration": 1351.44532,
   "end_time": "2020-10-12T09:19:45.691992",
   "environment_variables": {},
   "exception": null,
   "input_path": "__notebook__.ipynb",
   "output_path": "__notebook__.ipynb",
   "parameters": {},
   "start_time": "2020-10-12T08:57:14.246672",
   "version": "2.1.0"
  }
 },
 "nbformat": 4,
 "nbformat_minor": 4
}
